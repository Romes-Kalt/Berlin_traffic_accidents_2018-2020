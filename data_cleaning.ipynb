{
 "cells": [
  {
   "cell_type": "markdown",
   "id": "08ecf49e",
   "metadata": {},
   "source": [
    "<a id=\"top\"></a>\n",
    "# 1. ToC"
   ]
  },
  {
   "cell_type": "code",
   "execution_count": 54,
   "id": "36722d49",
   "metadata": {},
   "outputs": [],
   "source": [
    "import pandas as pd\n",
    "import numpy as np"
   ]
  },
  {
   "cell_type": "markdown",
   "id": "faae05f9",
   "metadata": {},
   "source": [
    "<a id=\"functions\"></a>\n",
    "# 2. Functions"
   ]
  },
  {
   "cell_type": "markdown",
   "id": "efaec030",
   "metadata": {},
   "source": [
    "## 2.1 General"
   ]
  },
  {
   "cell_type": "code",
   "execution_count": 55,
   "id": "6470890f",
   "metadata": {},
   "outputs": [],
   "source": [
    "def nan_values_of_all_columns(this_df, return_dict:[bool] = False):\n",
    "    \"\"\"prints (defaults) or returns dictionary of all columns in this_df and their respective nan-values\"\"\"\n",
    "    if not return_dict:\n",
    "        for col in this_df.columns:\n",
    "            print(col, this_df[col].isna().sum())\n",
    "        return\n",
    "    return {col:this_df[col].isna().sum() for col in this_df.columns}"
   ]
  },
  {
   "cell_type": "code",
   "execution_count": 56,
   "id": "0aac2c19",
   "metadata": {},
   "outputs": [],
   "source": [
    "def return_float(x:[str] = None, repl:[str]=\",\"):\n",
    "    \"\"\"replaces repl in x and returns float, if \"\"\"\n",
    "    return float(x.replace(\",\",\".\")) if x else None"
   ]
  },
  {
   "cell_type": "code",
   "execution_count": 57,
   "id": "162fd279",
   "metadata": {},
   "outputs": [],
   "source": [
    "def split_column_names_by(this_df, include_dtypes:[list]=[\"int\",\"float\"]):\n",
    "    # __author__ = \"Roman Kaltschew\"\n",
    "    \"\"\"takes in this_df, splits this_df's columns into two lists of column name by dtype of columns (default [\"int\",\"float\"]) \n",
    "       and returns tuple (incl_lst, excl_lst)\"\"\"\n",
    "    incl_lst = [_ for _ in this_df.select_dtypes(include=include_dtypes).dtypes.index]\n",
    "    excl_lst = [_ for _ in this_df.select_dtypes(exclude=include_dtypes).dtypes.index]\n",
    "    return (incl_lst, excl_lst)"
   ]
  },
  {
   "cell_type": "code",
   "execution_count": 58,
   "id": "e0f57320",
   "metadata": {},
   "outputs": [],
   "source": [
    "def snake_case_columns(col_names:[list]=None):\n",
    "    # __author__ = \"Roman Kaltschew\"\n",
    "    \"\"\"changes all columns to snake_case (from CamelCase)\"\"\"\n",
    "    if not col_names or type(col_names) != list:\n",
    "        print(\"No list of column names provided\")\n",
    "        return None\n",
    "    new_cols = []\n",
    "    for col in col_names:\n",
    "        if col.isupper():\n",
    "            new_cols.append(col.lower())\n",
    "        else:\n",
    "            this_col = col[0].lower()\n",
    "            for _ in col[1:]:\n",
    "                if _.isupper():\n",
    "                    this_col += f\"_{_.lower()}\"\n",
    "                else:\n",
    "                    this_col += _\n",
    "            new_cols.append(this_col)\n",
    "    return new_cols"
   ]
  },
  {
   "cell_type": "code",
   "execution_count": null,
   "id": "b05159b8",
   "metadata": {},
   "outputs": [],
   "source": []
  },
  {
   "cell_type": "markdown",
   "id": "ee294e7c",
   "metadata": {},
   "source": [
    "## 2.2 Project specific"
   ]
  },
  {
   "cell_type": "code",
   "execution_count": 59,
   "id": "580b9f59",
   "metadata": {},
   "outputs": [],
   "source": [
    "def columns_dataset_overview():\n",
    "    \"\"\"PROJECTSPECIFIC!!!!\"\"\"\n",
    "    col_dat18 = [_ for _ in data2018.columns]\n",
    "    col_dat19 = [_ for _ in data2019.columns]\n",
    "    col_dat20 = [_ for _ in data2020.columns]\n",
    "    print(\"2018:\",len(col_dat18),\"columns\")\n",
    "    print(\"2019:\",len(col_dat19),\"columns\")\n",
    "    print(\"2020:\",len(col_dat20),\"columns\")\n",
    "    \n",
    "    columns_in_all = []\n",
    "    for c in col_dat18:\n",
    "        if c not in columns_in_all:\n",
    "            if c in col_dat19 and c in col_dat20:\n",
    "                columns_in_all.append(c)\n",
    "    print(\"Number of columns identical in all datasets:\", len(columns_in_all))\n",
    "    print(columns_in_all)\n",
    "    # ---\n",
    "    print(\"\\nMismatching columns:\")\n",
    "    columns_not_in_all = []\n",
    "    for c in col_dat18:\n",
    "        if c not in col_dat19 or c not in col_dat20:\n",
    "            columns_not_in_all.append((c, 2018))\n",
    "    for c in col_dat19:\n",
    "        if c not in col_dat18 or c not in col_dat20:\n",
    "            columns_not_in_all.append((c, 2019))\n",
    "    for c in col_dat20:\n",
    "        if c not in col_dat18 or c not in col_dat19:\n",
    "            columns_not_in_all.append((c, 2020))\n",
    "    for _ in columns_not_in_all:\n",
    "        print(_)"
   ]
  },
  {
   "cell_type": "code",
   "execution_count": 60,
   "id": "7891338a",
   "metadata": {},
   "outputs": [],
   "source": [
    "def change_weekday(day:[int] = 0):\n",
    "    weekdays = {\n",
    "        1: \"Sun\",\n",
    "        2: \"Mon\",\n",
    "        3: \"Tue\",\n",
    "        4: \"Wed\",\n",
    "        5: \"Thu\",\n",
    "        6: \"Fri\",\n",
    "        7: \"Sat\",\n",
    "    }\n",
    "    if day == 0:\n",
    "        return None\n",
    "    return weekdays[day]"
   ]
  },
  {
   "cell_type": "code",
   "execution_count": 61,
   "id": "953df436",
   "metadata": {},
   "outputs": [],
   "source": [
    "def bin_hours(hour:[int]):\n",
    "    day_times = {\n",
    "        \"night\": [0,1,2,3,4,5],\n",
    "        \"morning\": [6,7,8,9,10,11],\n",
    "        \"afternoon\": [12,13,14,15,16,17],\n",
    "        \"evening\": [18,19,20,21,22,23],\n",
    "    }\n",
    "    for d_t, h in day_times.items():\n",
    "        if hour in h:\n",
    "            return d_t"
   ]
  },
  {
   "cell_type": "code",
   "execution_count": 62,
   "id": "c6fbb7c9",
   "metadata": {},
   "outputs": [],
   "source": [
    "def change_acc_type(cat:[int]):\n",
    "    if cat == 1:\n",
    "        return \"killed\"\n",
    "    elif cat == 2:\n",
    "        return \"seriously_injured\"\n",
    "    else:\n",
    "        return \"slightly_injured\""
   ]
  },
  {
   "cell_type": "code",
   "execution_count": 63,
   "id": "4d11ff8a",
   "metadata": {},
   "outputs": [],
   "source": [
    "def change_street_cond(cat:[int]):\n",
    "    if cat == 1:\n",
    "        return \"wet\"\n",
    "    elif cat == 2:\n",
    "        return \"icy\"\n",
    "    else:\n",
    "        return \"dry\""
   ]
  },
  {
   "cell_type": "code",
   "execution_count": 64,
   "id": "e7a8fbea",
   "metadata": {},
   "outputs": [],
   "source": [
    "def change_light_cond(cat:[int]):\n",
    "    if cat == 1:\n",
    "        return \"dusk\"\n",
    "    elif cat == 2:\n",
    "        return \"dark\"\n",
    "    else:\n",
    "        return \"daylight\""
   ]
  },
  {
   "cell_type": "code",
   "execution_count": 65,
   "id": "5d3865be",
   "metadata": {},
   "outputs": [],
   "source": [
    "def numbers_df(this_df, acc_outcome:[str]=None):\n",
    "    if not acc_outcome:\n",
    "        print(\"No accident outcome defined.\")\n",
    "        return None\n",
    "    forms_of_transport = ['IstPKW', 'IstKrad', 'IstGkfz', 'IstRad', 'IstFuss', 'IstSonstige']\n",
    "    names_of_transport = [\"car\", \"motor bike\", \"truck\", \"bicycle\", \"pedestrians\", \"other\"]\n",
    "\n",
    "    acc_num_df = pd.DataFrame(columns=[\"category\", \"total\", \"percentage\", \"total_deaths\", \"death_perc\"])\n",
    "    acc_num_df.category = names_of_transport\n",
    "    \n",
    "    # print(f\"Total accidents: {len(this_df)}. Total deaths: {len(this_df[this_df.accident_outcome == 'killed'])}.\")\n",
    "    totals = []\n",
    "    to_prc = []\n",
    "    to_dea = []\n",
    "    de_prc = []\n",
    "    for f in forms_of_transport:\n",
    "        f_df = this_df[this_df[f] == 1]\n",
    "        totals.append(len(f_df))\n",
    "        to_prc.append(round(len(f_df)*100/len(this_df),2))\n",
    "        to_dea.append(len(f_df[f_df.accident_outcome == acc_outcome]))\n",
    "        de_prc.append(round(len(f_df[f_df.accident_outcome == acc_outcome])*100/len(this_df[this_df.accident_outcome == acc_outcome]),2))\n",
    "    df_ = pd.DataFrame\n",
    "    acc_num_df.total = totals\n",
    "    acc_num_df.percentage = to_prc\n",
    "    acc_num_df.total_deaths = to_dea\n",
    "    acc_num_df.death_perc = de_prc\n",
    "    return acc_num_df"
   ]
  },
  {
   "cell_type": "code",
   "execution_count": null,
   "id": "c5b22b6d",
   "metadata": {},
   "outputs": [],
   "source": []
  },
  {
   "cell_type": "code",
   "execution_count": 1,
   "id": "65ff3123",
   "metadata": {},
   "outputs": [
    {
     "ename": "NameError",
     "evalue": "name 'data_' is not defined",
     "output_type": "error",
     "traceback": [
      "\u001b[1;31m---------------------------------------------------------------------------\u001b[0m",
      "\u001b[1;31mNameError\u001b[0m                                 Traceback (most recent call last)",
      "\u001b[1;32m~\\AppData\\Local\\Temp/ipykernel_6152/2195663083.py\u001b[0m in \u001b[0;36m<module>\u001b[1;34m\u001b[0m\n\u001b[1;32m----> 1\u001b[1;33m \u001b[0mlen\u001b[0m\u001b[1;33m(\u001b[0m\u001b[0mdata_\u001b[0m\u001b[1;33m)\u001b[0m\u001b[1;33m\u001b[0m\u001b[1;33m\u001b[0m\u001b[0m\n\u001b[0m",
      "\u001b[1;31mNameError\u001b[0m: name 'data_' is not defined"
     ]
    }
   ],
   "source": [
    "len(data_)"
   ]
  },
  {
   "cell_type": "code",
   "execution_count": null,
   "id": "63ae1243",
   "metadata": {},
   "outputs": [],
   "source": []
  },
  {
   "cell_type": "code",
   "execution_count": null,
   "id": "098ab050",
   "metadata": {},
   "outputs": [],
   "source": []
  },
  {
   "cell_type": "code",
   "execution_count": null,
   "id": "f38a729d",
   "metadata": {},
   "outputs": [],
   "source": []
  },
  {
   "cell_type": "code",
   "execution_count": null,
   "id": "cb6d37b8",
   "metadata": {},
   "outputs": [],
   "source": []
  },
  {
   "cell_type": "code",
   "execution_count": null,
   "id": "87006cf4",
   "metadata": {},
   "outputs": [],
   "source": []
  },
  {
   "cell_type": "markdown",
   "id": "3f1d8599",
   "metadata": {},
   "source": [
    "<a id = \"combine_data\"></a>\n",
    "# 3. Creating combined dataset"
   ]
  },
  {
   "cell_type": "markdown",
   "id": "3f8a3dbd",
   "metadata": {},
   "source": [
    "## 3.1 Reading all files and basic column name cleaning"
   ]
  },
  {
   "cell_type": "code",
   "execution_count": 66,
   "id": "c69f7f45",
   "metadata": {},
   "outputs": [],
   "source": [
    "data2018 = pd.read_csv(r\"data\\AfSBBB_BE_LOR_Strasse_Strassenverkehrsunfaelle_2018_Datensatz.csv\", encoding=\"latin-1\", sep=\";\")\n",
    "data2019 = pd.read_csv(r\"data\\AfSBBB_BE_LOR_Strasse_Strassenverkehrsunfaelle_2019_Datensatz.csv\", encoding=\"latin-1\", sep=\";\")\n",
    "data2020 = pd.read_csv(r\"data\\AfSBBB_BE_LOR_Strasse_Strassenverkehrsunfaelle_2020_Datensatz.csv\", encoding=\"latin-1\", sep=\";\")"
   ]
  },
  {
   "cell_type": "code",
   "execution_count": 67,
   "id": "8da78105",
   "metadata": {},
   "outputs": [
    {
     "name": "stdout",
     "output_type": "stream",
     "text": [
      "2018: 25 columns\n",
      "2019: 24 columns\n",
      "2020: 24 columns\n",
      "Number of columns identical in all datasets: 21\n",
      "['OBJECTID', 'LAND', 'BEZ', 'LOR', 'UJAHR', 'UMONAT', 'USTUNDE', 'UWOCHENTAG', 'UKATEGORIE', 'UART', 'UTYP1', 'ULICHTVERH', 'IstRad', 'IstPKW', 'IstFuss', 'IstKrad', 'IstGkfz', 'LINREFX', 'LINREFY', 'XGCSWGS84', 'YGCSWGS84']\n",
      "\n",
      "Mismatching columns:\n",
      "('STRASSE', 2018)\n",
      "('LOR_ab_2021', 2018)\n",
      "('IstSonstig', 2018)\n",
      "('STRZUSTAND', 2018)\n",
      "('STRASSE', 2019)\n",
      "('IstSonstige', 2019)\n",
      "('USTRZUSTAND', 2019)\n",
      "('LOR_ab_2021', 2020)\n",
      "('IstSonstige', 2020)\n",
      "('USTRZUSTAND', 2020)\n"
     ]
    }
   ],
   "source": [
    "# calling a function specific to this project\n",
    "columns_dataset_overview()"
   ]
  },
  {
   "cell_type": "code",
   "execution_count": 68,
   "id": "482e12b8",
   "metadata": {},
   "outputs": [],
   "source": [
    "data2018.rename(columns={'IstSonstig': 'IstSonstige', 'STRZUSTAND': 'USTRZUSTAND'}, inplace=True)"
   ]
  },
  {
   "cell_type": "code",
   "execution_count": 69,
   "id": "1987a42d",
   "metadata": {},
   "outputs": [],
   "source": [
    "# reordering all columns and drop superfluous columns\n",
    "data2018 = data2018[['UJAHR', 'UMONAT', 'USTUNDE', 'UWOCHENTAG', 'UKATEGORIE', 'UART', 'UTYP1', 'ULICHTVERH', 'IstRad', 'IstPKW', 'IstFuss', 'IstKrad', 'IstGkfz', 'IstSonstige', 'USTRZUSTAND', 'LINREFX', 'LINREFY', 'XGCSWGS84', 'YGCSWGS84']]\n",
    "data2019 = data2019[['UJAHR', 'UMONAT', 'USTUNDE', 'UWOCHENTAG', 'UKATEGORIE', 'UART', 'UTYP1', 'ULICHTVERH', 'IstRad', 'IstPKW', 'IstFuss', 'IstKrad', 'IstGkfz', 'IstSonstige', 'USTRZUSTAND', 'LINREFX', 'LINREFY', 'XGCSWGS84', 'YGCSWGS84']]\n",
    "data2020 = data2020[['UJAHR', 'UMONAT', 'USTUNDE', 'UWOCHENTAG', 'UKATEGORIE', 'UART', 'UTYP1', 'ULICHTVERH', 'IstRad', 'IstPKW', 'IstFuss', 'IstKrad', 'IstGkfz', 'IstSonstige', 'USTRZUSTAND', 'LINREFX', 'LINREFY', 'XGCSWGS84', 'YGCSWGS84']]"
   ]
  },
  {
   "cell_type": "code",
   "execution_count": 70,
   "id": "0ba5e21b",
   "metadata": {},
   "outputs": [],
   "source": [
    "# concat\n",
    "data_ = pd.concat([data2018, data2019, data2020])"
   ]
  },
  {
   "cell_type": "code",
   "execution_count": 71,
   "id": "966084b1",
   "metadata": {},
   "outputs": [],
   "source": [
    "data_.columns = snake_case_columns(list(data_.columns))\n",
    "data_.rename(columns={'ist_p_k_w': 'ist_pkw'}, inplace=True)\n"
   ]
  },
  {
   "cell_type": "code",
   "execution_count": 72,
   "id": "d801d32c",
   "metadata": {},
   "outputs": [],
   "source": [
    "# remove outlier in ist_sonstige\n",
    "data_ = data_[data_.ist_sonstige != \"812083,7893\"] \n",
    "# set type to int\n",
    "data_.ist_sonstige = data_.ist_sonstige.astype(\"int64\")\n"
   ]
  },
  {
   "cell_type": "markdown",
   "id": "32ed79e3",
   "metadata": {},
   "source": [
    "## 3.2 Feature Engineering "
   ]
  },
  {
   "cell_type": "code",
   "execution_count": 73,
   "id": "686485ff",
   "metadata": {},
   "outputs": [],
   "source": [
    "# usable coordinates of the dataset\n",
    "data_[\"long\"] = list(map(return_float, data_[\"ygcswgs84\"]))\n",
    "data_[\"lat\"] = list(map(return_float, data_[\"xgcswgs84\"]))"
   ]
  },
  {
   "cell_type": "code",
   "execution_count": 74,
   "id": "51bdcdf0",
   "metadata": {},
   "outputs": [],
   "source": [
    "data_.drop(['linrefx', 'linrefy', 'xgcswgs84', 'ygcswgs84'], axis=1, inplace=True)"
   ]
  },
  {
   "cell_type": "code",
   "execution_count": 75,
   "id": "e886da23",
   "metadata": {},
   "outputs": [],
   "source": [
    "# weekday column\n",
    "data_[\"weekday\"] = list(map(change_weekday, data_[\"uwochentag\"]))\n",
    "# data_.drop(\"uwochentag\", axis=1, inplace=True)\n",
    "\n",
    "# accident outcome\n",
    "data_[\"accident_outcome\"] = list(map(change_acc_type, data_[\"ukategorie\"]))\n",
    "# data_.drop(\"ukategorie\", axis=1, inplace=True)\n",
    "\n",
    "# time_of_day\n",
    "data_[\"time_of_day\"] = list(map(bin_hours, data_[\"ustunde\"]))\n",
    "# data_.drop(\"ustunde\", axis=1, inplace=True)\n",
    "\n",
    "# time_of_day\n",
    "data_[\"street_condition\"] = list(map(change_street_cond, data_[\"ustrzustand\"]))\n",
    "# data_.drop(\"ustrzustand\", axis=1, inplace=True)\n",
    "\n",
    "# time_of_day\n",
    "data_[\"light_condition\"] = list(map(change_light_cond, data_[\"ulichtverh\"]))\n",
    "# data_.drop(\"ulichtverh\", axis=1, inplace=True)\n"
   ]
  },
  {
   "cell_type": "code",
   "execution_count": 76,
   "id": "b7d61753",
   "metadata": {},
   "outputs": [
    {
     "data": {
      "text/html": [
       "<div>\n",
       "<style scoped>\n",
       "    .dataframe tbody tr th:only-of-type {\n",
       "        vertical-align: middle;\n",
       "    }\n",
       "\n",
       "    .dataframe tbody tr th {\n",
       "        vertical-align: top;\n",
       "    }\n",
       "\n",
       "    .dataframe thead th {\n",
       "        text-align: right;\n",
       "    }\n",
       "</style>\n",
       "<table border=\"1\" class=\"dataframe\">\n",
       "  <thead>\n",
       "    <tr style=\"text-align: right;\">\n",
       "      <th></th>\n",
       "      <th>ujahr</th>\n",
       "      <th>umonat</th>\n",
       "      <th>ustunde</th>\n",
       "      <th>uwochentag</th>\n",
       "      <th>ukategorie</th>\n",
       "      <th>uart</th>\n",
       "      <th>utyp1</th>\n",
       "      <th>ulichtverh</th>\n",
       "      <th>ist_rad</th>\n",
       "      <th>ist_pkw</th>\n",
       "      <th>...</th>\n",
       "      <th>ist_gkfz</th>\n",
       "      <th>ist_sonstige</th>\n",
       "      <th>ustrzustand</th>\n",
       "      <th>long</th>\n",
       "      <th>lat</th>\n",
       "      <th>weekday</th>\n",
       "      <th>accident_outcome</th>\n",
       "      <th>time_of_day</th>\n",
       "      <th>street_condition</th>\n",
       "      <th>light_condition</th>\n",
       "    </tr>\n",
       "  </thead>\n",
       "  <tbody>\n",
       "    <tr>\n",
       "      <th>0</th>\n",
       "      <td>2018</td>\n",
       "      <td>1</td>\n",
       "      <td>15</td>\n",
       "      <td>4</td>\n",
       "      <td>3</td>\n",
       "      <td>6</td>\n",
       "      <td>4</td>\n",
       "      <td>0</td>\n",
       "      <td>0</td>\n",
       "      <td>1</td>\n",
       "      <td>...</td>\n",
       "      <td>0</td>\n",
       "      <td>0</td>\n",
       "      <td>1</td>\n",
       "      <td>52.513597</td>\n",
       "      <td>13.475018</td>\n",
       "      <td>Wed</td>\n",
       "      <td>slightly_injured</td>\n",
       "      <td>afternoon</td>\n",
       "      <td>wet</td>\n",
       "      <td>daylight</td>\n",
       "    </tr>\n",
       "    <tr>\n",
       "      <th>1</th>\n",
       "      <td>2018</td>\n",
       "      <td>1</td>\n",
       "      <td>11</td>\n",
       "      <td>2</td>\n",
       "      <td>3</td>\n",
       "      <td>2</td>\n",
       "      <td>6</td>\n",
       "      <td>0</td>\n",
       "      <td>0</td>\n",
       "      <td>1</td>\n",
       "      <td>...</td>\n",
       "      <td>0</td>\n",
       "      <td>0</td>\n",
       "      <td>0</td>\n",
       "      <td>52.587259</td>\n",
       "      <td>13.291022</td>\n",
       "      <td>Mon</td>\n",
       "      <td>slightly_injured</td>\n",
       "      <td>morning</td>\n",
       "      <td>dry</td>\n",
       "      <td>daylight</td>\n",
       "    </tr>\n",
       "    <tr>\n",
       "      <th>2</th>\n",
       "      <td>2018</td>\n",
       "      <td>1</td>\n",
       "      <td>9</td>\n",
       "      <td>3</td>\n",
       "      <td>3</td>\n",
       "      <td>6</td>\n",
       "      <td>4</td>\n",
       "      <td>0</td>\n",
       "      <td>0</td>\n",
       "      <td>1</td>\n",
       "      <td>...</td>\n",
       "      <td>0</td>\n",
       "      <td>0</td>\n",
       "      <td>0</td>\n",
       "      <td>52.526019</td>\n",
       "      <td>13.420578</td>\n",
       "      <td>Tue</td>\n",
       "      <td>slightly_injured</td>\n",
       "      <td>morning</td>\n",
       "      <td>dry</td>\n",
       "      <td>daylight</td>\n",
       "    </tr>\n",
       "    <tr>\n",
       "      <th>3</th>\n",
       "      <td>2018</td>\n",
       "      <td>1</td>\n",
       "      <td>17</td>\n",
       "      <td>2</td>\n",
       "      <td>3</td>\n",
       "      <td>6</td>\n",
       "      <td>7</td>\n",
       "      <td>2</td>\n",
       "      <td>0</td>\n",
       "      <td>1</td>\n",
       "      <td>...</td>\n",
       "      <td>0</td>\n",
       "      <td>0</td>\n",
       "      <td>0</td>\n",
       "      <td>52.481844</td>\n",
       "      <td>13.348288</td>\n",
       "      <td>Mon</td>\n",
       "      <td>slightly_injured</td>\n",
       "      <td>afternoon</td>\n",
       "      <td>dry</td>\n",
       "      <td>dark</td>\n",
       "    </tr>\n",
       "    <tr>\n",
       "      <th>4</th>\n",
       "      <td>2018</td>\n",
       "      <td>1</td>\n",
       "      <td>15</td>\n",
       "      <td>4</td>\n",
       "      <td>3</td>\n",
       "      <td>6</td>\n",
       "      <td>7</td>\n",
       "      <td>1</td>\n",
       "      <td>1</td>\n",
       "      <td>0</td>\n",
       "      <td>...</td>\n",
       "      <td>0</td>\n",
       "      <td>0</td>\n",
       "      <td>1</td>\n",
       "      <td>52.583472</td>\n",
       "      <td>13.403228</td>\n",
       "      <td>Wed</td>\n",
       "      <td>slightly_injured</td>\n",
       "      <td>afternoon</td>\n",
       "      <td>wet</td>\n",
       "      <td>dusk</td>\n",
       "    </tr>\n",
       "    <tr>\n",
       "      <th>...</th>\n",
       "      <td>...</td>\n",
       "      <td>...</td>\n",
       "      <td>...</td>\n",
       "      <td>...</td>\n",
       "      <td>...</td>\n",
       "      <td>...</td>\n",
       "      <td>...</td>\n",
       "      <td>...</td>\n",
       "      <td>...</td>\n",
       "      <td>...</td>\n",
       "      <td>...</td>\n",
       "      <td>...</td>\n",
       "      <td>...</td>\n",
       "      <td>...</td>\n",
       "      <td>...</td>\n",
       "      <td>...</td>\n",
       "      <td>...</td>\n",
       "      <td>...</td>\n",
       "      <td>...</td>\n",
       "      <td>...</td>\n",
       "      <td>...</td>\n",
       "    </tr>\n",
       "    <tr>\n",
       "      <th>11805</th>\n",
       "      <td>2020</td>\n",
       "      <td>12</td>\n",
       "      <td>7</td>\n",
       "      <td>4</td>\n",
       "      <td>3</td>\n",
       "      <td>6</td>\n",
       "      <td>2</td>\n",
       "      <td>1</td>\n",
       "      <td>0</td>\n",
       "      <td>1</td>\n",
       "      <td>...</td>\n",
       "      <td>0</td>\n",
       "      <td>0</td>\n",
       "      <td>1</td>\n",
       "      <td>52.466442</td>\n",
       "      <td>13.377941</td>\n",
       "      <td>Wed</td>\n",
       "      <td>slightly_injured</td>\n",
       "      <td>morning</td>\n",
       "      <td>wet</td>\n",
       "      <td>dusk</td>\n",
       "    </tr>\n",
       "    <tr>\n",
       "      <th>11806</th>\n",
       "      <td>2020</td>\n",
       "      <td>12</td>\n",
       "      <td>17</td>\n",
       "      <td>3</td>\n",
       "      <td>3</td>\n",
       "      <td>5</td>\n",
       "      <td>3</td>\n",
       "      <td>2</td>\n",
       "      <td>0</td>\n",
       "      <td>1</td>\n",
       "      <td>...</td>\n",
       "      <td>0</td>\n",
       "      <td>0</td>\n",
       "      <td>1</td>\n",
       "      <td>52.613018</td>\n",
       "      <td>13.310915</td>\n",
       "      <td>Tue</td>\n",
       "      <td>slightly_injured</td>\n",
       "      <td>afternoon</td>\n",
       "      <td>wet</td>\n",
       "      <td>dark</td>\n",
       "    </tr>\n",
       "    <tr>\n",
       "      <th>11807</th>\n",
       "      <td>2020</td>\n",
       "      <td>12</td>\n",
       "      <td>14</td>\n",
       "      <td>3</td>\n",
       "      <td>3</td>\n",
       "      <td>5</td>\n",
       "      <td>3</td>\n",
       "      <td>0</td>\n",
       "      <td>0</td>\n",
       "      <td>1</td>\n",
       "      <td>...</td>\n",
       "      <td>0</td>\n",
       "      <td>1</td>\n",
       "      <td>0</td>\n",
       "      <td>52.506091</td>\n",
       "      <td>13.419649</td>\n",
       "      <td>Tue</td>\n",
       "      <td>slightly_injured</td>\n",
       "      <td>afternoon</td>\n",
       "      <td>dry</td>\n",
       "      <td>daylight</td>\n",
       "    </tr>\n",
       "    <tr>\n",
       "      <th>11808</th>\n",
       "      <td>2020</td>\n",
       "      <td>12</td>\n",
       "      <td>16</td>\n",
       "      <td>3</td>\n",
       "      <td>3</td>\n",
       "      <td>6</td>\n",
       "      <td>2</td>\n",
       "      <td>2</td>\n",
       "      <td>0</td>\n",
       "      <td>1</td>\n",
       "      <td>...</td>\n",
       "      <td>0</td>\n",
       "      <td>0</td>\n",
       "      <td>1</td>\n",
       "      <td>52.510570</td>\n",
       "      <td>13.391817</td>\n",
       "      <td>Tue</td>\n",
       "      <td>slightly_injured</td>\n",
       "      <td>afternoon</td>\n",
       "      <td>wet</td>\n",
       "      <td>dark</td>\n",
       "    </tr>\n",
       "    <tr>\n",
       "      <th>11809</th>\n",
       "      <td>2020</td>\n",
       "      <td>12</td>\n",
       "      <td>14</td>\n",
       "      <td>4</td>\n",
       "      <td>3</td>\n",
       "      <td>2</td>\n",
       "      <td>2</td>\n",
       "      <td>0</td>\n",
       "      <td>0</td>\n",
       "      <td>1</td>\n",
       "      <td>...</td>\n",
       "      <td>1</td>\n",
       "      <td>0</td>\n",
       "      <td>0</td>\n",
       "      <td>52.559284</td>\n",
       "      <td>13.386714</td>\n",
       "      <td>Wed</td>\n",
       "      <td>slightly_injured</td>\n",
       "      <td>afternoon</td>\n",
       "      <td>dry</td>\n",
       "      <td>daylight</td>\n",
       "    </tr>\n",
       "  </tbody>\n",
       "</table>\n",
       "<p>38851 rows × 22 columns</p>\n",
       "</div>"
      ],
      "text/plain": [
       "       ujahr  umonat  ustunde  uwochentag  ukategorie  uart  utyp1  \\\n",
       "0       2018       1       15           4           3     6      4   \n",
       "1       2018       1       11           2           3     2      6   \n",
       "2       2018       1        9           3           3     6      4   \n",
       "3       2018       1       17           2           3     6      7   \n",
       "4       2018       1       15           4           3     6      7   \n",
       "...      ...     ...      ...         ...         ...   ...    ...   \n",
       "11805   2020      12        7           4           3     6      2   \n",
       "11806   2020      12       17           3           3     5      3   \n",
       "11807   2020      12       14           3           3     5      3   \n",
       "11808   2020      12       16           3           3     6      2   \n",
       "11809   2020      12       14           4           3     2      2   \n",
       "\n",
       "       ulichtverh  ist_rad  ist_pkw  ...  ist_gkfz  ist_sonstige  ustrzustand  \\\n",
       "0               0        0        1  ...         0             0            1   \n",
       "1               0        0        1  ...         0             0            0   \n",
       "2               0        0        1  ...         0             0            0   \n",
       "3               2        0        1  ...         0             0            0   \n",
       "4               1        1        0  ...         0             0            1   \n",
       "...           ...      ...      ...  ...       ...           ...          ...   \n",
       "11805           1        0        1  ...         0             0            1   \n",
       "11806           2        0        1  ...         0             0            1   \n",
       "11807           0        0        1  ...         0             1            0   \n",
       "11808           2        0        1  ...         0             0            1   \n",
       "11809           0        0        1  ...         1             0            0   \n",
       "\n",
       "            long        lat  weekday  accident_outcome time_of_day  \\\n",
       "0      52.513597  13.475018      Wed  slightly_injured   afternoon   \n",
       "1      52.587259  13.291022      Mon  slightly_injured     morning   \n",
       "2      52.526019  13.420578      Tue  slightly_injured     morning   \n",
       "3      52.481844  13.348288      Mon  slightly_injured   afternoon   \n",
       "4      52.583472  13.403228      Wed  slightly_injured   afternoon   \n",
       "...          ...        ...      ...               ...         ...   \n",
       "11805  52.466442  13.377941      Wed  slightly_injured     morning   \n",
       "11806  52.613018  13.310915      Tue  slightly_injured   afternoon   \n",
       "11807  52.506091  13.419649      Tue  slightly_injured   afternoon   \n",
       "11808  52.510570  13.391817      Tue  slightly_injured   afternoon   \n",
       "11809  52.559284  13.386714      Wed  slightly_injured   afternoon   \n",
       "\n",
       "      street_condition light_condition  \n",
       "0                  wet        daylight  \n",
       "1                  dry        daylight  \n",
       "2                  dry        daylight  \n",
       "3                  dry            dark  \n",
       "4                  wet            dusk  \n",
       "...                ...             ...  \n",
       "11805              wet            dusk  \n",
       "11806              wet            dark  \n",
       "11807              dry        daylight  \n",
       "11808              wet            dark  \n",
       "11809              dry        daylight  \n",
       "\n",
       "[38851 rows x 22 columns]"
      ]
     },
     "execution_count": 76,
     "metadata": {},
     "output_type": "execute_result"
    }
   ],
   "source": [
    "data_"
   ]
  },
  {
   "cell_type": "code",
   "execution_count": 77,
   "id": "3d701962",
   "metadata": {},
   "outputs": [
    {
     "name": "stdout",
     "output_type": "stream",
     "text": [
      "ujahr, umonat, ustunde, uwochentag, ukategorie, uart, utyp1, ulichtverh, ist_rad, ist_pkw, ist_fuss, ist_krad, ist_gkfz, ist_sonstige, ustrzustand, long, lat, weekday, accident_outcome, time_of_day, street_condition, light_condition, "
     ]
    }
   ],
   "source": [
    "for _ in list(data_.columns):\n",
    "    print(_, end=\", \")"
   ]
  },
  {
   "cell_type": "code",
   "execution_count": 80,
   "id": "3569eb06",
   "metadata": {},
   "outputs": [],
   "source": [
    "data_ = data_[[\"ujahr\", \"umonat\", \"weekday\", \"uwochentag\", \"long\", \"lat\", \"time_of_day\", \"ustunde\", \"light_condition\", \n",
    "               \"ulichtverh\", \"street_condition\", \"ustrzustand\", \"uart\", \"utyp1\", \"ist_rad\", \"ist_pkw\", \"ist_fuss\", \"ist_krad\", \n",
    "               \"ist_gkfz\", \"ist_sonstige\", \"ukategorie\", \"accident_outcome\"]]"
   ]
  },
  {
   "cell_type": "markdown",
   "id": "b211b586",
   "metadata": {},
   "source": [
    "## 3.3 Save to csv (if needed)"
   ]
  },
  {
   "cell_type": "code",
   "execution_count": 82,
   "id": "80e908c8",
   "metadata": {},
   "outputs": [],
   "source": [
    "# data_.to_csv(\"./data/cleaned_data.csv\", index=False)"
   ]
  },
  {
   "cell_type": "code",
   "execution_count": 2,
   "id": "e8713452",
   "metadata": {},
   "outputs": [
    {
     "ename": "NameError",
     "evalue": "name 'data_' is not defined",
     "output_type": "error",
     "traceback": [
      "\u001b[1;31m---------------------------------------------------------------------------\u001b[0m",
      "\u001b[1;31mNameError\u001b[0m                                 Traceback (most recent call last)",
      "\u001b[1;32m~\\AppData\\Local\\Temp/ipykernel_6152/2195663083.py\u001b[0m in \u001b[0;36m<module>\u001b[1;34m\u001b[0m\n\u001b[1;32m----> 1\u001b[1;33m \u001b[0mlen\u001b[0m\u001b[1;33m(\u001b[0m\u001b[0mdata_\u001b[0m\u001b[1;33m)\u001b[0m\u001b[1;33m\u001b[0m\u001b[1;33m\u001b[0m\u001b[0m\n\u001b[0m",
      "\u001b[1;31mNameError\u001b[0m: name 'data_' is not defined"
     ]
    }
   ],
   "source": [
    "len(data_)"
   ]
  }
 ],
 "metadata": {
  "kernelspec": {
   "display_name": "Python 3 (ipykernel)",
   "language": "python",
   "name": "python3"
  },
  "language_info": {
   "codemirror_mode": {
    "name": "ipython",
    "version": 3
   },
   "file_extension": ".py",
   "mimetype": "text/x-python",
   "name": "python",
   "nbconvert_exporter": "python",
   "pygments_lexer": "ipython3",
   "version": "3.9.7"
  },
  "toc": {
   "base_numbering": 1,
   "nav_menu": {},
   "number_sections": true,
   "sideBar": true,
   "skip_h1_title": false,
   "title_cell": "Table of Contents",
   "title_sidebar": "Contents",
   "toc_cell": false,
   "toc_position": {},
   "toc_section_display": true,
   "toc_window_display": false
  },
  "varInspector": {
   "cols": {
    "lenName": 16,
    "lenType": 16,
    "lenVar": 40
   },
   "kernels_config": {
    "python": {
     "delete_cmd_postfix": "",
     "delete_cmd_prefix": "del ",
     "library": "var_list.py",
     "varRefreshCmd": "print(var_dic_list())"
    },
    "r": {
     "delete_cmd_postfix": ") ",
     "delete_cmd_prefix": "rm(",
     "library": "var_list.r",
     "varRefreshCmd": "cat(var_dic_list()) "
    }
   },
   "types_to_exclude": [
    "module",
    "function",
    "builtin_function_or_method",
    "instance",
    "_Feature"
   ],
   "window_display": false
  }
 },
 "nbformat": 4,
 "nbformat_minor": 5
}
