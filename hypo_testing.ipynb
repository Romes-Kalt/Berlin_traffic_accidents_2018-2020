{
 "cells": [
  {
   "cell_type": "code",
   "execution_count": 1,
   "id": "950605ee",
   "metadata": {},
   "outputs": [],
   "source": [
    "import pandas as pd\n",
    "import numpy as np\n",
    "import scipy.stats as stats"
   ]
  },
  {
   "cell_type": "code",
   "execution_count": 2,
   "id": "a5562570",
   "metadata": {},
   "outputs": [],
   "source": [
    "df = pd.read_csv(\"./data/accident_records_by_day.csv\")"
   ]
  },
  {
   "cell_type": "markdown",
   "id": "c591951e",
   "metadata": {},
   "source": [
    "### The impact of the lockdown on number of traffic accidents\n",
    "\n",
    "+ H0: total number of accidents in times without lockdowns = total number of accidents in times with lockdowns<br>\n",
    "+ Ha: total number of accidents in times without lockdowns ≠ total number of accidents in times with lockdowns<br>"
   ]
  },
  {
   "cell_type": "code",
   "execution_count": 3,
   "id": "69e7156f",
   "metadata": {},
   "outputs": [
    {
     "data": {
      "text/plain": [
       "0    2319\n",
       "1     238\n",
       "Name: lockdown, dtype: int64"
      ]
     },
     "execution_count": 3,
     "metadata": {},
     "output_type": "execute_result"
    }
   ],
   "source": [
    "df.lockdown.value_counts()"
   ]
  },
  {
   "cell_type": "code",
   "execution_count": 4,
   "id": "221fb25d",
   "metadata": {},
   "outputs": [],
   "source": [
    "df_no_lock = df[df.lockdown == 0]\n",
    "df_lock = df[df.lockdown == 1]"
   ]
  },
  {
   "cell_type": "code",
   "execution_count": 5,
   "id": "00d6a3d8",
   "metadata": {},
   "outputs": [],
   "source": [
    "sample1 = df_no_lock.sample(100, random_state=42)   # no lockdown\n",
    "sample2 = df_lock.sample(100, random_state=42)      # lockdown"
   ]
  },
  {
   "cell_type": "code",
   "execution_count": 6,
   "id": "dbfbdb86",
   "metadata": {},
   "outputs": [],
   "source": [
    "# sample mean\n",
    "xbar1 = np.mean(sample1[\"combined_inj_seriousprop\"]) \n",
    "xbar2 = np.mean(sample2[\"combined_inj_seriousprop\"])"
   ]
  },
  {
   "cell_type": "code",
   "execution_count": 7,
   "id": "75aa8414",
   "metadata": {},
   "outputs": [],
   "source": [
    "# S²\n",
    "sample1[\"stdev\"] = (xbar1 - sample1[\"combined_inj_seriousprop\"])**2\n",
    "sample2[\"stdev\"] = (xbar2 - sample2[\"combined_inj_seriousprop\"])**2"
   ]
  },
  {
   "cell_type": "code",
   "execution_count": 8,
   "id": "f1648c68",
   "metadata": {},
   "outputs": [],
   "source": [
    "S1 = sum(sample1[\"stdev\"]) / (len(sample1)-1)\n",
    "S2 = sum(sample2[\"stdev\"]) / (len(sample2)-1)"
   ]
  },
  {
   "cell_type": "code",
   "execution_count": 9,
   "id": "e7f51ce1",
   "metadata": {},
   "outputs": [
    {
     "data": {
      "text/plain": [
       "9.21369682262934"
      ]
     },
     "execution_count": 9,
     "metadata": {},
     "output_type": "execute_result"
    }
   ],
   "source": [
    "t = (xbar1 - xbar2) / ((S1/len(sample1)) + (S2/len(sample2)))**0.5\n",
    "t"
   ]
  },
  {
   "cell_type": "code",
   "execution_count": 10,
   "id": "182434de",
   "metadata": {},
   "outputs": [
    {
     "data": {
      "text/plain": [
       "1.9839715184496334"
      ]
     },
     "execution_count": 10,
     "metadata": {},
     "output_type": "execute_result"
    }
   ],
   "source": [
    "tc = stats.t.ppf(1-(0.05/2),df=100) \n",
    "tc"
   ]
  },
  {
   "cell_type": "markdown",
   "id": "d5fdc5ad",
   "metadata": {},
   "source": [
    "### Conclusion"
   ]
  },
  {
   "cell_type": "code",
   "execution_count": 11,
   "id": "9734f1dd",
   "metadata": {},
   "outputs": [
    {
     "name": "stdout",
     "output_type": "stream",
     "text": [
      "As the calculated t is larger than the tc (in absolutes), the H0 is rejected.\n"
     ]
    }
   ],
   "source": [
    "if abs(t) <= tc:\n",
    "    print(\"As the calculated t is equal to or smaller than the tc (in absolutes), we fail to reject the H0.\")\n",
    "else:\n",
    "    print(\"As the calculated t is larger than the tc (in absolutes), the H0 is rejected.\")\n"
   ]
  }
 ],
 "metadata": {
  "kernelspec": {
   "display_name": "Python 3 (ipykernel)",
   "language": "python",
   "name": "python3"
  },
  "language_info": {
   "codemirror_mode": {
    "name": "ipython",
    "version": 3
   },
   "file_extension": ".py",
   "mimetype": "text/x-python",
   "name": "python",
   "nbconvert_exporter": "python",
   "pygments_lexer": "ipython3",
   "version": "3.9.7"
  },
  "toc": {
   "base_numbering": 1,
   "nav_menu": {},
   "number_sections": false,
   "sideBar": true,
   "skip_h1_title": false,
   "title_cell": "Table of Contents",
   "title_sidebar": "Contents",
   "toc_cell": false,
   "toc_position": {},
   "toc_section_display": true,
   "toc_window_display": true
  },
  "varInspector": {
   "cols": {
    "lenName": 16,
    "lenType": 16,
    "lenVar": 40
   },
   "kernels_config": {
    "python": {
     "delete_cmd_postfix": "",
     "delete_cmd_prefix": "del ",
     "library": "var_list.py",
     "varRefreshCmd": "print(var_dic_list())"
    },
    "r": {
     "delete_cmd_postfix": ") ",
     "delete_cmd_prefix": "rm(",
     "library": "var_list.r",
     "varRefreshCmd": "cat(var_dic_list()) "
    }
   },
   "types_to_exclude": [
    "module",
    "function",
    "builtin_function_or_method",
    "instance",
    "_Feature"
   ],
   "window_display": false
  }
 },
 "nbformat": 4,
 "nbformat_minor": 5
}
