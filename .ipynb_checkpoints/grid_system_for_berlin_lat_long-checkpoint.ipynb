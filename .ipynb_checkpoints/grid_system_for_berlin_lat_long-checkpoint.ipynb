{
 "cells": [
  {
   "cell_type": "code",
   "execution_count": 1,
   "id": "26b563ca",
   "metadata": {},
   "outputs": [],
   "source": [
    "import pandas as pd\n",
    "import numpy as np"
   ]
  },
  {
   "cell_type": "code",
   "execution_count": 3,
   "id": "19ad92aa",
   "metadata": {},
   "outputs": [],
   "source": [
    "df = pd.read_csv(\"data/cleaned_data.csv\")"
   ]
  },
  {
   "cell_type": "markdown",
   "id": "60ce4a84",
   "metadata": {},
   "source": [
    "### Create extra columns for every weather and lighting situation"
   ]
  },
  {
   "cell_type": "code",
   "execution_count": 4,
   "id": "d149d7de",
   "metadata": {},
   "outputs": [],
   "source": [
    "df[\"daylight\"] = list(map(lambda x: 1 if x == 0 else 0, df.ulichtverh))\n",
    "df[\"dusk\"] = list(map(lambda x: 1 if x == 1 else 0, df.ulichtverh))\n",
    "df[\"dark\"] = list(map(lambda x: 1 if x == 2 else 0, df.ulichtverh))\n",
    "df.drop(\"ulichtverh\", axis = 1, inplace = True)"
   ]
  },
  {
   "cell_type": "code",
   "execution_count": 5,
   "id": "e26d71e2",
   "metadata": {},
   "outputs": [],
   "source": [
    "df[\"dry\"] = list(map(lambda x: 1 if x == 0 else 0, df.ustrzustand))\n",
    "df[\"wet\"] = list(map(lambda x: 1 if x == 1 else 0, df.ustrzustand))\n",
    "df[\"ice\"] = list(map(lambda x: 1 if x == 2 else 0, df.ustrzustand))\n",
    "df.drop(\"ustrzustand\", axis = 1, inplace = True)"
   ]
  },
  {
   "cell_type": "code",
   "execution_count": 6,
   "id": "c549043e",
   "metadata": {},
   "outputs": [],
   "source": [
    "df[\"y2018\"] = list(map(lambda x: 1 if x == 2018 else 0, df.ujahr))\n",
    "df[\"y2019\"] = list(map(lambda x: 1 if x == 2019 else 0, df.ujahr))\n",
    "df[\"y2020\"] = list(map(lambda x: 1 if x == 2020 else 0, df.ujahr))\n",
    "df.drop(\"ujahr\", axis = 1, inplace = True)"
   ]
  },
  {
   "cell_type": "code",
   "execution_count": 7,
   "id": "f7c8a2d3",
   "metadata": {},
   "outputs": [],
   "source": [
    "df[\"jan\"] = list(map(lambda x: 1 if x == 1 else 0, df.umonat))\n",
    "df[\"feb\"] = list(map(lambda x: 1 if x == 2 else 0, df.umonat))\n",
    "df[\"mar\"] = list(map(lambda x: 1 if x == 3 else 0, df.umonat))\n",
    "df[\"apr\"] = list(map(lambda x: 1 if x == 4 else 0, df.umonat))\n",
    "df[\"may\"] = list(map(lambda x: 1 if x == 5 else 0, df.umonat))\n",
    "df[\"jun\"] = list(map(lambda x: 1 if x == 6 else 0, df.umonat))\n",
    "df[\"jul\"] = list(map(lambda x: 1 if x == 7 else 0, df.umonat))\n",
    "df[\"aug\"] = list(map(lambda x: 1 if x == 8 else 0, df.umonat))\n",
    "df[\"sep\"] = list(map(lambda x: 1 if x == 9 else 0, df.umonat))\n",
    "df[\"oct\"] = list(map(lambda x: 1 if x == 10 else 0, df.umonat))\n",
    "df[\"nov\"] = list(map(lambda x: 1 if x == 11 else 0, df.umonat))\n",
    "df[\"dec\"] = list(map(lambda x: 1 if x == 12 else 0, df.umonat))\n",
    "df.drop(\"umonat\", axis = 1, inplace = True)"
   ]
  },
  {
   "cell_type": "code",
   "execution_count": 8,
   "id": "120566c8",
   "metadata": {},
   "outputs": [],
   "source": [
    "df[\"sun\"] = list(map(lambda x: 1 if x == 1 else 0, df.uwochentag))\n",
    "df[\"mon\"] = list(map(lambda x: 1 if x == 2 else 0, df.uwochentag))\n",
    "df[\"tue\"] = list(map(lambda x: 1 if x == 3 else 0, df.uwochentag))\n",
    "df[\"wed\"] = list(map(lambda x: 1 if x == 4 else 0, df.uwochentag))\n",
    "df[\"thu\"] = list(map(lambda x: 1 if x == 5 else 0, df.uwochentag))\n",
    "df[\"fri\"] = list(map(lambda x: 1 if x == 6 else 0, df.uwochentag))\n",
    "df[\"sat\"] = list(map(lambda x: 1 if x == 7 else 0, df.uwochentag))\n",
    "df.drop(\"uwochentag\", axis = 1, inplace = True)"
   ]
  },
  {
   "cell_type": "code",
   "execution_count": 9,
   "id": "b925f0ea",
   "metadata": {},
   "outputs": [],
   "source": [
    "df[\"morning\"] = list(map(lambda x: 1 if x == \"morning\" else 0, df.time_of_day))\n",
    "df[\"afternoon\"] = list(map(lambda x: 1 if x == \"afternoon\" else 0, df.time_of_day))\n",
    "df[\"evening\"] = list(map(lambda x: 1 if x == \"evening\" else 0, df.time_of_day))\n",
    "df[\"night\"] = list(map(lambda x: 1 if x == \"night\" else 0, df.time_of_day))\n",
    "df.drop(\"time_of_day\", axis = 1, inplace = True)"
   ]
  },
  {
   "cell_type": "code",
   "execution_count": 10,
   "id": "89a1183f",
   "metadata": {},
   "outputs": [],
   "source": [
    "for _ in range(0,24):\n",
    "    df[f\"{_}hr\"] = list(map(lambda x: 1 if x == _ else 0, df.ustunde))\n",
    "df.drop(\"ustunde\", axis = 1, inplace = True)"
   ]
  },
  {
   "cell_type": "code",
   "execution_count": 11,
   "id": "5acf1e0b",
   "metadata": {},
   "outputs": [],
   "source": [
    "df[\"driving\"] = list(map(lambda x: 1 if x == 1 else 0, df.utyp1))\n",
    "df[\"turning\"] = list(map(lambda x: 1 if x == 2 else 0, df.utyp1))\n",
    "df[\"turn_in\"] = list(map(lambda x: 1 if x == 3 else 0, df.utyp1))\n",
    "df[\"crossing\"] = list(map(lambda x: 1 if x == 4 else 0, df.utyp1))\n",
    "df[\"standing_traffic\"] = list(map(lambda x: 1 if x == 5 else 0, df.utyp1))\n",
    "df[\"longitudinal_traffic\"] = list(map(lambda x: 1 if x == 6 else 0, df.utyp1))\n",
    "df[\"other\"] = list(map(lambda x: 1 if x == 7 else 0, df.utyp1))\n",
    "df.drop(\"utyp1\", axis = 1, inplace = True)"
   ]
  },
  {
   "cell_type": "code",
   "execution_count": 12,
   "id": "98171e5d",
   "metadata": {},
   "outputs": [],
   "source": [
    "df.drop([\"weekday\", \"light_condition\", \"street_condition\", \"uart\"], axis = 1, inplace = True)"
   ]
  },
  {
   "cell_type": "code",
   "execution_count": null,
   "id": "fc4e488e",
   "metadata": {},
   "outputs": [],
   "source": []
  },
  {
   "cell_type": "code",
   "execution_count": null,
   "id": "b3a97d14",
   "metadata": {},
   "outputs": [],
   "source": []
  },
  {
   "cell_type": "code",
   "execution_count": 15,
   "id": "bc3ecd73",
   "metadata": {},
   "outputs": [
    {
     "name": "stdout",
     "output_type": "stream",
     "text": [
      "Longitude: 52.34653157 52.66015  - Delta: 0.31362\n",
      "Latitude : 13.09467645 13.74096  - Delta: 0.64628\n"
     ]
    }
   ],
   "source": [
    "print(\"Longitude:\", min(df.long), max(df.long), \" - Delta:\", round(max(df.long)-min(df.long),5))\n",
    "print(\"Latitude :\", min(df.lat), max(df.lat), \" - Delta:\", round(max(df.lat)-min(df.lat),5))"
   ]
  },
  {
   "cell_type": "markdown",
   "id": "d8966835",
   "metadata": {},
   "source": [
    "### Coordinate range\n",
    "\n",
    "Using [calculator.net](https://www.calculator.net/distance-calculator.html) the range between the minimum and maximum longitude is **34.01 km** and between the minimum and maximum latitude is **71.50 km**.\n"
   ]
  },
  {
   "cell_type": "code",
   "execution_count": 16,
   "id": "0a819382",
   "metadata": {},
   "outputs": [],
   "source": [
    "step = 0.001 # equals around 111 m\n",
    "to_bin = lambda x: np.floor(x / step) * step\n",
    "df[\"lat_bin\"] = to_bin(df.lat)\n",
    "df[\"lon_bin\"] = to_bin(df.long)\n",
    "lat_long_groups = df.groupby([\"lon_bin\", \"lat_bin\"]).sum()"
   ]
  },
  {
   "cell_type": "code",
   "execution_count": 17,
   "id": "5321446a",
   "metadata": {},
   "outputs": [],
   "source": [
    "lat_long_groups.drop([\"long\", \"lat\"], axis = 1, inplace = True)"
   ]
  },
  {
   "cell_type": "code",
   "execution_count": null,
   "id": "7a0e48f5",
   "metadata": {},
   "outputs": [],
   "source": []
  },
  {
   "cell_type": "code",
   "execution_count": 18,
   "id": "fa9a3717",
   "metadata": {},
   "outputs": [
    {
     "data": {
      "text/html": [
       "<div>\n",
       "<style scoped>\n",
       "    .dataframe tbody tr th:only-of-type {\n",
       "        vertical-align: middle;\n",
       "    }\n",
       "\n",
       "    .dataframe tbody tr th {\n",
       "        vertical-align: top;\n",
       "    }\n",
       "\n",
       "    .dataframe thead th {\n",
       "        text-align: right;\n",
       "    }\n",
       "</style>\n",
       "<table border=\"1\" class=\"dataframe\">\n",
       "  <thead>\n",
       "    <tr style=\"text-align: right;\">\n",
       "      <th></th>\n",
       "      <th></th>\n",
       "      <th>ist_rad</th>\n",
       "      <th>ist_pkw</th>\n",
       "      <th>ist_fuss</th>\n",
       "      <th>ist_krad</th>\n",
       "      <th>ist_gkfz</th>\n",
       "      <th>ist_sonstige</th>\n",
       "      <th>ukategorie</th>\n",
       "      <th>daylight</th>\n",
       "      <th>dusk</th>\n",
       "      <th>dark</th>\n",
       "      <th>...</th>\n",
       "      <th>21hr</th>\n",
       "      <th>22hr</th>\n",
       "      <th>23hr</th>\n",
       "      <th>driving</th>\n",
       "      <th>turning</th>\n",
       "      <th>turn_in</th>\n",
       "      <th>crossing</th>\n",
       "      <th>standing_traffic</th>\n",
       "      <th>longitudinal_traffic</th>\n",
       "      <th>other</th>\n",
       "    </tr>\n",
       "    <tr>\n",
       "      <th>lon_bin</th>\n",
       "      <th>lat_bin</th>\n",
       "      <th></th>\n",
       "      <th></th>\n",
       "      <th></th>\n",
       "      <th></th>\n",
       "      <th></th>\n",
       "      <th></th>\n",
       "      <th></th>\n",
       "      <th></th>\n",
       "      <th></th>\n",
       "      <th></th>\n",
       "      <th></th>\n",
       "      <th></th>\n",
       "      <th></th>\n",
       "      <th></th>\n",
       "      <th></th>\n",
       "      <th></th>\n",
       "      <th></th>\n",
       "      <th></th>\n",
       "      <th></th>\n",
       "      <th></th>\n",
       "      <th></th>\n",
       "    </tr>\n",
       "  </thead>\n",
       "  <tbody>\n",
       "    <tr>\n",
       "      <th>52.503</th>\n",
       "      <th>13.41</th>\n",
       "      <td>30</td>\n",
       "      <td>27</td>\n",
       "      <td>1</td>\n",
       "      <td>1</td>\n",
       "      <td>0</td>\n",
       "      <td>6</td>\n",
       "      <td>101</td>\n",
       "      <td>23</td>\n",
       "      <td>1</td>\n",
       "      <td>11</td>\n",
       "      <td>...</td>\n",
       "      <td>1</td>\n",
       "      <td>1</td>\n",
       "      <td>1</td>\n",
       "      <td>3</td>\n",
       "      <td>12</td>\n",
       "      <td>19</td>\n",
       "      <td>0</td>\n",
       "      <td>0</td>\n",
       "      <td>0</td>\n",
       "      <td>1</td>\n",
       "    </tr>\n",
       "  </tbody>\n",
       "</table>\n",
       "<p>1 rows × 70 columns</p>\n",
       "</div>"
      ],
      "text/plain": [
       "                 ist_rad  ist_pkw  ist_fuss  ist_krad  ist_gkfz  ist_sonstige  \\\n",
       "lon_bin lat_bin                                                                 \n",
       "52.503  13.41         30       27         1         1         0             6   \n",
       "\n",
       "                 ukategorie  daylight  dusk  dark  ...  21hr  22hr  23hr  \\\n",
       "lon_bin lat_bin                                    ...                     \n",
       "52.503  13.41           101        23     1    11  ...     1     1     1   \n",
       "\n",
       "                 driving  turning  turn_in  crossing  standing_traffic  \\\n",
       "lon_bin lat_bin                                                          \n",
       "52.503  13.41          3       12       19         0                 0   \n",
       "\n",
       "                 longitudinal_traffic  other  \n",
       "lon_bin lat_bin                               \n",
       "52.503  13.41                       0      1  \n",
       "\n",
       "[1 rows x 70 columns]"
      ]
     },
     "execution_count": 18,
     "metadata": {},
     "output_type": "execute_result"
    }
   ],
   "source": [
    "lat_long_groups[lat_long_groups.ist_rad == max(lat_long_groups.ist_rad)]"
   ]
  },
  {
   "cell_type": "code",
   "execution_count": 37,
   "id": "38921650",
   "metadata": {},
   "outputs": [],
   "source": [
    "most_acc_dict = {}\n",
    "for col in lat_long_groups:\n",
    "    most_acc_dict[col] = {\"long\": round(lat_long_groups[lat_long_groups[col] == max(lat_long_groups[col])].index[0][0], 7),\n",
    "                         \"lat\": round(lat_long_groups[lat_long_groups[col] == max(lat_long_groups[col])].index[0][1], 7),}\n",
    "    # print(col, lat_long_groups[lat_long_groups[col] == max(lat_long_groups[col])].index[0][0])\n",
    "pd.DataFrame.from_dict(most_acc_dict, orient='index').to_csv(\"./data/most_acc_latlong_by_category.csv\", index = True)\n",
    "    "
   ]
  },
  {
   "cell_type": "code",
   "execution_count": 241,
   "id": "5c6ccacf",
   "metadata": {},
   "outputs": [
    {
     "name": "stdout",
     "output_type": "stream",
     "text": [
      "                 ujahr  umonat  uwochentag        long        lat  ustunde  \\\n",
      "lat_bin lon_bin                                                              \n",
      "13.094  52.413    2018       3           1   52.413353  13.094676       17   \n",
      "13.096  52.413    2019      10           5   52.413250  13.096840       14   \n",
      "13.097  52.413    6058      17          15  157.239934  39.291786       41   \n",
      "13.098  52.413    2018       6           3   52.413515  13.098119       10   \n",
      "13.099  52.413    2018      10           4   52.413805  13.099440       11   \n",
      "...                ...     ...         ...         ...        ...      ...   \n",
      "13.729  52.430    2020      12           2   52.430291  13.729501       17   \n",
      "13.730  52.427    2019       1           2   52.427460  13.730560        9   \n",
      "13.731  52.430    2018       8           1   52.430101  13.731246       22   \n",
      "13.738  52.428    2018       7           4   52.428992  13.738100       10   \n",
      "13.740  52.428    2019       1           3   52.428290  13.740960       17   \n",
      "\n",
      "                 ulichtverh  ustrzustand  uart  utyp1  ist_rad  ist_pkw  \\\n",
      "lat_bin lon_bin                                                           \n",
      "13.094  52.413            0            0     2      6        1        1   \n",
      "13.096  52.413            0            0     5      5        0        1   \n",
      "13.097  52.413            0            0     9     14        1        2   \n",
      "13.098  52.413            0            0     1      5        1        1   \n",
      "13.099  52.413            0            0     5      7        1        1   \n",
      "...                     ...          ...   ...    ...      ...      ...   \n",
      "13.729  52.430            2            1     0      7        0        1   \n",
      "13.730  52.427            0            2     0      1        1        0   \n",
      "13.731  52.430            2            0     3      6        1        1   \n",
      "13.738  52.428            0            0     4      6        1        0   \n",
      "13.740  52.428            2            0     4      3        0        1   \n",
      "\n",
      "                 ist_fuss  ist_krad  ist_gkfz  ist_sonstige  ukategorie  \n",
      "lat_bin lon_bin                                                          \n",
      "13.094  52.413          0         0         0             0           3  \n",
      "13.096  52.413          0         0         0             0           3  \n",
      "13.097  52.413          0         0         0             0           8  \n",
      "13.098  52.413          0         0         0             0           3  \n",
      "13.099  52.413          0         0         0             0           3  \n",
      "...                   ...       ...       ...           ...         ...  \n",
      "13.729  52.430          0         0         0             0           3  \n",
      "13.730  52.427          0         0         0             0           2  \n",
      "13.731  52.430          0         0         0             0           2  \n",
      "13.738  52.428          0         0         0             0           3  \n",
      "13.740  52.428          0         0         0             0           3  \n",
      "\n",
      "[14293 rows x 17 columns]\n"
     ]
    }
   ],
   "source": []
  },
  {
   "cell_type": "code",
   "execution_count": null,
   "id": "0f1f8bbc",
   "metadata": {},
   "outputs": [],
   "source": [
    "\n"
   ]
  },
  {
   "cell_type": "code",
   "execution_count": 70,
   "id": "f6efc1af",
   "metadata": {},
   "outputs": [],
   "source": []
  },
  {
   "cell_type": "code",
   "execution_count": null,
   "id": "67d16bc5",
   "metadata": {},
   "outputs": [],
   "source": []
  },
  {
   "cell_type": "code",
   "execution_count": null,
   "id": "3c9deb8c",
   "metadata": {},
   "outputs": [],
   "source": []
  },
  {
   "cell_type": "code",
   "execution_count": null,
   "id": "3b4d8cc8",
   "metadata": {},
   "outputs": [],
   "source": []
  },
  {
   "cell_type": "code",
   "execution_count": null,
   "id": "ea72d2a5",
   "metadata": {},
   "outputs": [],
   "source": []
  },
  {
   "cell_type": "code",
   "execution_count": null,
   "id": "0dcb3577",
   "metadata": {},
   "outputs": [],
   "source": []
  },
  {
   "cell_type": "code",
   "execution_count": null,
   "id": "a43a39bb",
   "metadata": {},
   "outputs": [],
   "source": []
  },
  {
   "cell_type": "code",
   "execution_count": null,
   "id": "e6f17ede",
   "metadata": {},
   "outputs": [],
   "source": []
  },
  {
   "cell_type": "code",
   "execution_count": null,
   "id": "9a871fb7",
   "metadata": {},
   "outputs": [],
   "source": []
  }
 ],
 "metadata": {
  "kernelspec": {
   "display_name": "Python 3 (ipykernel)",
   "language": "python",
   "name": "python3"
  },
  "language_info": {
   "codemirror_mode": {
    "name": "ipython",
    "version": 3
   },
   "file_extension": ".py",
   "mimetype": "text/x-python",
   "name": "python",
   "nbconvert_exporter": "python",
   "pygments_lexer": "ipython3",
   "version": "3.9.7"
  },
  "toc": {
   "base_numbering": 1,
   "nav_menu": {},
   "number_sections": false,
   "sideBar": true,
   "skip_h1_title": false,
   "title_cell": "Table of Contents",
   "title_sidebar": "Contents",
   "toc_cell": false,
   "toc_position": {},
   "toc_section_display": true,
   "toc_window_display": true
  },
  "varInspector": {
   "cols": {
    "lenName": 16,
    "lenType": 16,
    "lenVar": 40
   },
   "kernels_config": {
    "python": {
     "delete_cmd_postfix": "",
     "delete_cmd_prefix": "del ",
     "library": "var_list.py",
     "varRefreshCmd": "print(var_dic_list())"
    },
    "r": {
     "delete_cmd_postfix": ") ",
     "delete_cmd_prefix": "rm(",
     "library": "var_list.r",
     "varRefreshCmd": "cat(var_dic_list()) "
    }
   },
   "types_to_exclude": [
    "module",
    "function",
    "builtin_function_or_method",
    "instance",
    "_Feature"
   ],
   "window_display": false
  }
 },
 "nbformat": 4,
 "nbformat_minor": 5
}
