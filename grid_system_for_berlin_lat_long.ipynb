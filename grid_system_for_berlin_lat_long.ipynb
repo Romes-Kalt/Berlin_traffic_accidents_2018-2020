{
 "cells": [
  {
   "cell_type": "code",
   "execution_count": 44,
   "id": "77fa304e",
   "metadata": {},
   "outputs": [],
   "source": [
    "import pandas as pd\n",
    "import numpy as np\n",
    "import matplotlib.pyplot as plt"
   ]
  },
  {
   "cell_type": "code",
   "execution_count": null,
   "id": "77e169dc",
   "metadata": {},
   "outputs": [],
   "source": [
    "def return_most_acc_df(this_df):\n",
    "    step = 0.001 # equals around 111 m\n",
    "    to_bin = lambda x: np.floor(x / step) * step\n",
    "    this_df[\"lat_bin\"] = to_bin(this_df.lat)\n",
    "    this_df[\"lon_bin\"] = to_bin(this_df.long)\n",
    "    lat_long_groups = df.groupby([\"lon_bin\", \"lat_bin\"]).sum()\n",
    "    most_acc_dict = {}\n",
    "    for col in lat_long_groups:\n",
    "        most_acc_dict[col] = {\"long\": round(lat_long_groups[lat_long_groups[col] == max(lat_long_groups[col])].index[0][0], 7),\n",
    "                             \"lat\": round(lat_long_groups[lat_long_groups[col] == max(lat_long_groups[col])].index[0][1], 7),}\n",
    "    return pd.DataFrame.from_dict(most_acc_dict, orient='index')"
   ]
  },
  {
   "cell_type": "code",
   "execution_count": 99,
   "id": "55d1643e",
   "metadata": {},
   "outputs": [],
   "source": [
    "df = pd.read_csv(\"data/cleaned_data.csv\")"
   ]
  },
  {
   "cell_type": "code",
   "execution_count": 39,
   "id": "9e422da2",
   "metadata": {},
   "outputs": [],
   "source": [
    "bbox = ((df.long.min(), df.long.max(),      \n",
    "         df.lat.min(), df.lat.max()))"
   ]
  },
  {
   "cell_type": "markdown",
   "id": "05f25e86",
   "metadata": {},
   "source": [
    "### Create extra columns for every weather and lighting situation"
   ]
  },
  {
   "cell_type": "code",
   "execution_count": 100,
   "id": "75e9991c",
   "metadata": {},
   "outputs": [],
   "source": [
    "df[\"daylight\"] = list(map(lambda x: 1 if x == 0 else 0, df.ulichtverh))\n",
    "df[\"dusk\"] = list(map(lambda x: 1 if x == 1 else 0, df.ulichtverh))\n",
    "df[\"dark\"] = list(map(lambda x: 1 if x == 2 else 0, df.ulichtverh))\n",
    "df.drop(\"ulichtverh\", axis = 1, inplace = True)"
   ]
  },
  {
   "cell_type": "code",
   "execution_count": 101,
   "id": "644453d6",
   "metadata": {},
   "outputs": [],
   "source": [
    "df[\"dry\"] = list(map(lambda x: 1 if x == 0 else 0, df.ustrzustand))\n",
    "df[\"wet\"] = list(map(lambda x: 1 if x == 1 else 0, df.ustrzustand))\n",
    "df[\"ice\"] = list(map(lambda x: 1 if x == 2 else 0, df.ustrzustand))\n",
    "df.drop(\"ustrzustand\", axis = 1, inplace = True)"
   ]
  },
  {
   "cell_type": "code",
   "execution_count": 6,
   "id": "b4297c60",
   "metadata": {},
   "outputs": [],
   "source": [
    "df[\"y2018\"] = list(map(lambda x: 1 if x == 2018 else 0, df.ujahr))\n",
    "df[\"y2019\"] = list(map(lambda x: 1 if x == 2019 else 0, df.ujahr))\n",
    "df[\"y2020\"] = list(map(lambda x: 1 if x == 2020 else 0, df.ujahr))\n",
    "df.drop(\"ujahr\", axis = 1, inplace = True)"
   ]
  },
  {
   "cell_type": "code",
   "execution_count": 7,
   "id": "9db59f30",
   "metadata": {},
   "outputs": [],
   "source": [
    "df[\"jan\"] = list(map(lambda x: 1 if x == 1 else 0, df.umonat))\n",
    "df[\"feb\"] = list(map(lambda x: 1 if x == 2 else 0, df.umonat))\n",
    "df[\"mar\"] = list(map(lambda x: 1 if x == 3 else 0, df.umonat))\n",
    "df[\"apr\"] = list(map(lambda x: 1 if x == 4 else 0, df.umonat))\n",
    "df[\"may\"] = list(map(lambda x: 1 if x == 5 else 0, df.umonat))\n",
    "df[\"jun\"] = list(map(lambda x: 1 if x == 6 else 0, df.umonat))\n",
    "df[\"jul\"] = list(map(lambda x: 1 if x == 7 else 0, df.umonat))\n",
    "df[\"aug\"] = list(map(lambda x: 1 if x == 8 else 0, df.umonat))\n",
    "df[\"sep\"] = list(map(lambda x: 1 if x == 9 else 0, df.umonat))\n",
    "df[\"oct\"] = list(map(lambda x: 1 if x == 10 else 0, df.umonat))\n",
    "df[\"nov\"] = list(map(lambda x: 1 if x == 11 else 0, df.umonat))\n",
    "df[\"dec\"] = list(map(lambda x: 1 if x == 12 else 0, df.umonat))\n",
    "df.drop(\"umonat\", axis = 1, inplace = True)"
   ]
  },
  {
   "cell_type": "code",
   "execution_count": 102,
   "id": "9b59e7bb",
   "metadata": {},
   "outputs": [],
   "source": [
    "df[\"sun\"] = list(map(lambda x: 1 if x == 1 else 0, df.uwochentag))\n",
    "df[\"mon\"] = list(map(lambda x: 1 if x == 2 else 0, df.uwochentag))\n",
    "df[\"tue\"] = list(map(lambda x: 1 if x == 3 else 0, df.uwochentag))\n",
    "df[\"wed\"] = list(map(lambda x: 1 if x == 4 else 0, df.uwochentag))\n",
    "df[\"thu\"] = list(map(lambda x: 1 if x == 5 else 0, df.uwochentag))\n",
    "df[\"fri\"] = list(map(lambda x: 1 if x == 6 else 0, df.uwochentag))\n",
    "df[\"sat\"] = list(map(lambda x: 1 if x == 7 else 0, df.uwochentag))\n",
    "df.drop(\"uwochentag\", axis = 1, inplace = True)"
   ]
  },
  {
   "cell_type": "code",
   "execution_count": 103,
   "id": "318b77bc",
   "metadata": {},
   "outputs": [],
   "source": [
    "df[\"morning\"] = list(map(lambda x: 1 if x == \"morning\" else 0, df.time_of_day))\n",
    "df[\"afternoon\"] = list(map(lambda x: 1 if x == \"afternoon\" else 0, df.time_of_day))\n",
    "df[\"evening\"] = list(map(lambda x: 1 if x == \"evening\" else 0, df.time_of_day))\n",
    "df[\"night\"] = list(map(lambda x: 1 if x == \"night\" else 0, df.time_of_day))\n",
    "df.drop(\"time_of_day\", axis = 1, inplace = True)"
   ]
  },
  {
   "cell_type": "code",
   "execution_count": 104,
   "id": "c8a4622d",
   "metadata": {},
   "outputs": [],
   "source": [
    "for _ in range(0,24):\n",
    "    df[f\"{_}hr\"] = list(map(lambda x: 1 if x == _ else 0, df.ustunde))\n",
    "df.drop(\"ustunde\", axis = 1, inplace = True)"
   ]
  },
  {
   "cell_type": "code",
   "execution_count": 105,
   "id": "5ecefd72",
   "metadata": {},
   "outputs": [],
   "source": [
    "df[\"driving\"] = list(map(lambda x: 1 if x == 1 else 0, df.utyp1))\n",
    "df[\"turning\"] = list(map(lambda x: 1 if x == 2 else 0, df.utyp1))\n",
    "df[\"turn_in\"] = list(map(lambda x: 1 if x == 3 else 0, df.utyp1))\n",
    "df[\"crossing\"] = list(map(lambda x: 1 if x == 4 else 0, df.utyp1))\n",
    "df[\"standing_traffic\"] = list(map(lambda x: 1 if x == 5 else 0, df.utyp1))\n",
    "df[\"longitudinal_traffic\"] = list(map(lambda x: 1 if x == 6 else 0, df.utyp1))\n",
    "df[\"other\"] = list(map(lambda x: 1 if x == 7 else 0, df.utyp1))\n",
    "df.drop(\"utyp1\", axis = 1, inplace = True)"
   ]
  },
  {
   "cell_type": "code",
   "execution_count": 12,
   "id": "5b7fcbce",
   "metadata": {},
   "outputs": [],
   "source": [
    "df.drop([\"weekday\", \"light_condition\", \"street_condition\", \"uart\"], axis = 1, inplace = True)"
   ]
  },
  {
   "cell_type": "code",
   "execution_count": 15,
   "id": "31bea05b",
   "metadata": {},
   "outputs": [
    {
     "name": "stdout",
     "output_type": "stream",
     "text": [
      "Longitude: 52.34653157 52.66015  - Delta: 0.31362\n",
      "Latitude : 13.09467645 13.74096  - Delta: 0.64628\n"
     ]
    }
   ],
   "source": [
    "print(\"Longitude:\", min(df.long), max(df.long), \" - Delta:\", round(max(df.long)-min(df.long),5))\n",
    "print(\"Latitude :\", min(df.lat), max(df.lat), \" - Delta:\", round(max(df.lat)-min(df.lat),5))"
   ]
  },
  {
   "cell_type": "markdown",
   "id": "57df1486",
   "metadata": {},
   "source": [
    "### Coordinate range\n",
    "\n",
    "Using [calculator.net](https://www.calculator.net/distance-calculator.html) the range between the minimum and maximum longitude is **34.01 km** and between the minimum and maximum latitude is **71.50 km**.\n"
   ]
  },
  {
   "cell_type": "code",
   "execution_count": 16,
   "id": "85e1719e",
   "metadata": {},
   "outputs": [],
   "source": [
    "step = 0.001 # equals around 111 m\n",
    "to_bin = lambda x: np.floor(x / step) * step\n",
    "df[\"lat_bin\"] = to_bin(df.lat)\n",
    "df[\"lon_bin\"] = to_bin(df.long)\n",
    "lat_long_groups = df.groupby([\"lon_bin\", \"lat_bin\"]).sum()"
   ]
  },
  {
   "cell_type": "code",
   "execution_count": 17,
   "id": "8f233f1b",
   "metadata": {},
   "outputs": [],
   "source": [
    "lat_long_groups.drop([\"long\", \"lat\"], axis = 1, inplace = True)"
   ]
  },
  {
   "cell_type": "code",
   "execution_count": null,
   "id": "64c6cb2b",
   "metadata": {},
   "outputs": [],
   "source": []
  },
  {
   "cell_type": "code",
   "execution_count": 18,
   "id": "8daad88c",
   "metadata": {},
   "outputs": [
    {
     "data": {
      "text/html": [
       "<div>\n",
       "<style scoped>\n",
       "    .dataframe tbody tr th:only-of-type {\n",
       "        vertical-align: middle;\n",
       "    }\n",
       "\n",
       "    .dataframe tbody tr th {\n",
       "        vertical-align: top;\n",
       "    }\n",
       "\n",
       "    .dataframe thead th {\n",
       "        text-align: right;\n",
       "    }\n",
       "</style>\n",
       "<table border=\"1\" class=\"dataframe\">\n",
       "  <thead>\n",
       "    <tr style=\"text-align: right;\">\n",
       "      <th></th>\n",
       "      <th></th>\n",
       "      <th>ist_rad</th>\n",
       "      <th>ist_pkw</th>\n",
       "      <th>ist_fuss</th>\n",
       "      <th>ist_krad</th>\n",
       "      <th>ist_gkfz</th>\n",
       "      <th>ist_sonstige</th>\n",
       "      <th>ukategorie</th>\n",
       "      <th>daylight</th>\n",
       "      <th>dusk</th>\n",
       "      <th>dark</th>\n",
       "      <th>...</th>\n",
       "      <th>21hr</th>\n",
       "      <th>22hr</th>\n",
       "      <th>23hr</th>\n",
       "      <th>driving</th>\n",
       "      <th>turning</th>\n",
       "      <th>turn_in</th>\n",
       "      <th>crossing</th>\n",
       "      <th>standing_traffic</th>\n",
       "      <th>longitudinal_traffic</th>\n",
       "      <th>other</th>\n",
       "    </tr>\n",
       "    <tr>\n",
       "      <th>lon_bin</th>\n",
       "      <th>lat_bin</th>\n",
       "      <th></th>\n",
       "      <th></th>\n",
       "      <th></th>\n",
       "      <th></th>\n",
       "      <th></th>\n",
       "      <th></th>\n",
       "      <th></th>\n",
       "      <th></th>\n",
       "      <th></th>\n",
       "      <th></th>\n",
       "      <th></th>\n",
       "      <th></th>\n",
       "      <th></th>\n",
       "      <th></th>\n",
       "      <th></th>\n",
       "      <th></th>\n",
       "      <th></th>\n",
       "      <th></th>\n",
       "      <th></th>\n",
       "      <th></th>\n",
       "      <th></th>\n",
       "    </tr>\n",
       "  </thead>\n",
       "  <tbody>\n",
       "    <tr>\n",
       "      <th>52.503</th>\n",
       "      <th>13.41</th>\n",
       "      <td>30</td>\n",
       "      <td>27</td>\n",
       "      <td>1</td>\n",
       "      <td>1</td>\n",
       "      <td>0</td>\n",
       "      <td>6</td>\n",
       "      <td>101</td>\n",
       "      <td>23</td>\n",
       "      <td>1</td>\n",
       "      <td>11</td>\n",
       "      <td>...</td>\n",
       "      <td>1</td>\n",
       "      <td>1</td>\n",
       "      <td>1</td>\n",
       "      <td>3</td>\n",
       "      <td>12</td>\n",
       "      <td>19</td>\n",
       "      <td>0</td>\n",
       "      <td>0</td>\n",
       "      <td>0</td>\n",
       "      <td>1</td>\n",
       "    </tr>\n",
       "  </tbody>\n",
       "</table>\n",
       "<p>1 rows × 70 columns</p>\n",
       "</div>"
      ],
      "text/plain": [
       "                 ist_rad  ist_pkw  ist_fuss  ist_krad  ist_gkfz  ist_sonstige  \\\n",
       "lon_bin lat_bin                                                                 \n",
       "52.503  13.41         30       27         1         1         0             6   \n",
       "\n",
       "                 ukategorie  daylight  dusk  dark  ...  21hr  22hr  23hr  \\\n",
       "lon_bin lat_bin                                    ...                     \n",
       "52.503  13.41           101        23     1    11  ...     1     1     1   \n",
       "\n",
       "                 driving  turning  turn_in  crossing  standing_traffic  \\\n",
       "lon_bin lat_bin                                                          \n",
       "52.503  13.41          3       12       19         0                 0   \n",
       "\n",
       "                 longitudinal_traffic  other  \n",
       "lon_bin lat_bin                               \n",
       "52.503  13.41                       0      1  \n",
       "\n",
       "[1 rows x 70 columns]"
      ]
     },
     "execution_count": 18,
     "metadata": {},
     "output_type": "execute_result"
    }
   ],
   "source": [
    "lat_long_groups[lat_long_groups.ist_rad == max(lat_long_groups.ist_rad)]"
   ]
  },
  {
   "cell_type": "code",
   "execution_count": 41,
   "id": "6f694f5b",
   "metadata": {},
   "outputs": [],
   "source": [
    "most_acc_dict = {}\n",
    "for col in lat_long_groups:\n",
    "    most_acc_dict[col] = {\"long\": round(lat_long_groups[lat_long_groups[col] == max(lat_long_groups[col])].index[0][0], 7),\n",
    "                         \"lat\": round(lat_long_groups[lat_long_groups[col] == max(lat_long_groups[col])].index[0][1], 7),}\n",
    "    # print(col, lat_long_groups[lat_long_groups[col] == max(lat_long_groups[col])].index[0][0])\n",
    "# pd.DataFrame.from_dict(most_acc_dict, orient='index').to_csv(\"./data/most_acc_latlong_by_category.csv\", index = True)\n",
    "df_ = pd.DataFrame.from_dict(most_acc_dict, orient='index')"
   ]
  },
  {
   "cell_type": "code",
   "execution_count": 52,
   "id": "ce826bb3",
   "metadata": {},
   "outputs": [
    {
     "data": {
      "text/html": [
       "<div>\n",
       "<style scoped>\n",
       "    .dataframe tbody tr th:only-of-type {\n",
       "        vertical-align: middle;\n",
       "    }\n",
       "\n",
       "    .dataframe tbody tr th {\n",
       "        vertical-align: top;\n",
       "    }\n",
       "\n",
       "    .dataframe thead th {\n",
       "        text-align: right;\n",
       "    }\n",
       "</style>\n",
       "<table border=\"1\" class=\"dataframe\">\n",
       "  <thead>\n",
       "    <tr style=\"text-align: right;\">\n",
       "      <th></th>\n",
       "      <th>long</th>\n",
       "      <th>lat</th>\n",
       "    </tr>\n",
       "  </thead>\n",
       "  <tbody>\n",
       "    <tr>\n",
       "      <th>ist_rad</th>\n",
       "      <td>52.503</td>\n",
       "      <td>13.410</td>\n",
       "    </tr>\n",
       "    <tr>\n",
       "      <th>ist_pkw</th>\n",
       "      <td>52.538</td>\n",
       "      <td>13.326</td>\n",
       "    </tr>\n",
       "    <tr>\n",
       "      <th>ist_fuss</th>\n",
       "      <td>52.534</td>\n",
       "      <td>13.199</td>\n",
       "    </tr>\n",
       "    <tr>\n",
       "      <th>ist_krad</th>\n",
       "      <td>52.517</td>\n",
       "      <td>13.440</td>\n",
       "    </tr>\n",
       "    <tr>\n",
       "      <th>ist_gkfz</th>\n",
       "      <td>52.528</td>\n",
       "      <td>13.282</td>\n",
       "    </tr>\n",
       "    <tr>\n",
       "      <th>...</th>\n",
       "      <td>...</td>\n",
       "      <td>...</td>\n",
       "    </tr>\n",
       "    <tr>\n",
       "      <th>turn_in</th>\n",
       "      <td>52.552</td>\n",
       "      <td>13.427</td>\n",
       "    </tr>\n",
       "    <tr>\n",
       "      <th>crossing</th>\n",
       "      <td>52.457</td>\n",
       "      <td>13.578</td>\n",
       "    </tr>\n",
       "    <tr>\n",
       "      <th>standing_traffic</th>\n",
       "      <td>52.501</td>\n",
       "      <td>13.337</td>\n",
       "    </tr>\n",
       "    <tr>\n",
       "      <th>longitudinal_traffic</th>\n",
       "      <td>52.528</td>\n",
       "      <td>13.282</td>\n",
       "    </tr>\n",
       "    <tr>\n",
       "      <th>other</th>\n",
       "      <td>52.503</td>\n",
       "      <td>13.447</td>\n",
       "    </tr>\n",
       "  </tbody>\n",
       "</table>\n",
       "<p>70 rows × 2 columns</p>\n",
       "</div>"
      ],
      "text/plain": [
       "                        long     lat\n",
       "ist_rad               52.503  13.410\n",
       "ist_pkw               52.538  13.326\n",
       "ist_fuss              52.534  13.199\n",
       "ist_krad              52.517  13.440\n",
       "ist_gkfz              52.528  13.282\n",
       "...                      ...     ...\n",
       "turn_in               52.552  13.427\n",
       "crossing              52.457  13.578\n",
       "standing_traffic      52.501  13.337\n",
       "longitudinal_traffic  52.528  13.282\n",
       "other                 52.503  13.447\n",
       "\n",
       "[70 rows x 2 columns]"
      ]
     },
     "execution_count": 52,
     "metadata": {},
     "output_type": "execute_result"
    }
   ],
   "source": [
    "df_"
   ]
  },
  {
   "cell_type": "code",
   "execution_count": 45,
   "id": "13ab3299",
   "metadata": {},
   "outputs": [
    {
     "data": {
      "text/plain": [
       "(13.09467645, 13.74096)"
      ]
     },
     "execution_count": 45,
     "metadata": {},
     "output_type": "execute_result"
    },
    {
     "data": {
      "image/png": "[encoded data removed]",
      "text/plain": [
       "<Figure size 576x504 with 1 Axes>"
      ]
     },
     "metadata": {
      "needs_background": "light"
     },
     "output_type": "display_data"
    }
   ],
   "source": [
    "fig, ax = plt.subplots(figsize = (8,7))\n",
    "ax.scatter(df_.long, df_.lat, zorder=1, alpha= 0.2, c='b', s=10)\n",
    "ax.set_title('POI')\n",
    "ax.set_xlim(bbox[0],bbox[1])\n",
    "ax.set_ylim(bbox[2],bbox[3])\n"
   ]
  },
  {
   "cell_type": "code",
   "execution_count": 75,
   "id": "39e1d62b",
   "metadata": {},
   "outputs": [],
   "source": [
    "bicycle_hotspots = lat_long_groups[[\"ist_rad\"]].sort_values(\"ist_rad\", ascending=False).head(5)"
   ]
  },
  {
   "cell_type": "code",
   "execution_count": 68,
   "id": "15578e67",
   "metadata": {},
   "outputs": [],
   "source": [
    "loc_s = [\"Moritzplatz\", \"Brandenburger Tor\", \"Frankfurter Allee (S-Bhf)\", \"Oberbaumbrücke\", \"Ostbahnhof\"]"
   ]
  },
  {
   "cell_type": "code",
   "execution_count": 76,
   "id": "03a4597e",
   "metadata": {},
   "outputs": [],
   "source": [
    "bicycle_hotspots[\"Location\"] = loc_s"
   ]
  },
  {
   "cell_type": "code",
   "execution_count": 78,
   "id": "8ae774ff",
   "metadata": {},
   "outputs": [],
   "source": [
    "bicycle_hotspots.rename(columns={\"ist_rad\":\"Bicycle\"}, inplace=True)"
   ]
  },
  {
   "cell_type": "code",
   "execution_count": 85,
   "id": "bce2fbf8",
   "metadata": {},
   "outputs": [],
   "source": [
    "coors = bicycle_hotspots.index.to_list()"
   ]
  },
  {
   "cell_type": "code",
   "execution_count": 86,
   "id": "dd0614e7",
   "metadata": {},
   "outputs": [
    {
     "data": {
      "text/plain": [
       "[(52.503, 13.41),\n",
       " (52.516, 13.38),\n",
       " (52.515, 13.46),\n",
       " (52.502, 13.446),\n",
       " (52.51, 13.43)]"
      ]
     },
     "execution_count": 86,
     "metadata": {},
     "output_type": "execute_result"
    }
   ],
   "source": [
    "coors"
   ]
  },
  {
   "cell_type": "code",
   "execution_count": 90,
   "id": "c347d278",
   "metadata": {},
   "outputs": [],
   "source": [
    "longis = []\n",
    "latis = []\n",
    "for _ in coors:\n",
    "    longis.append(_[0])\n",
    "    latis.append(_[1])"
   ]
  },
  {
   "cell_type": "code",
   "execution_count": 91,
   "id": "cc3764b6",
   "metadata": {},
   "outputs": [],
   "source": [
    "bicycle_hotspots[\"Longitude\"] = longis\n",
    "bicycle_hotspots[\"Latitude\"] = latis"
   ]
  },
  {
   "cell_type": "code",
   "execution_count": 93,
   "id": "b08b5dec",
   "metadata": {},
   "outputs": [
    {
     "data": {
      "text/html": [
       "<div>\n",
       "<style scoped>\n",
       "    .dataframe tbody tr th:only-of-type {\n",
       "        vertical-align: middle;\n",
       "    }\n",
       "\n",
       "    .dataframe tbody tr th {\n",
       "        vertical-align: top;\n",
       "    }\n",
       "\n",
       "    .dataframe thead th {\n",
       "        text-align: right;\n",
       "    }\n",
       "</style>\n",
       "<table border=\"1\" class=\"dataframe\">\n",
       "  <thead>\n",
       "    <tr style=\"text-align: right;\">\n",
       "      <th></th>\n",
       "      <th>Bicycle</th>\n",
       "      <th>Location</th>\n",
       "      <th>Longitude</th>\n",
       "      <th>Latitude</th>\n",
       "    </tr>\n",
       "  </thead>\n",
       "  <tbody>\n",
       "    <tr>\n",
       "      <th>0</th>\n",
       "      <td>30</td>\n",
       "      <td>Moritzplatz</td>\n",
       "      <td>52.503</td>\n",
       "      <td>13.410</td>\n",
       "    </tr>\n",
       "    <tr>\n",
       "      <th>1</th>\n",
       "      <td>27</td>\n",
       "      <td>Brandenburger Tor</td>\n",
       "      <td>52.516</td>\n",
       "      <td>13.380</td>\n",
       "    </tr>\n",
       "    <tr>\n",
       "      <th>2</th>\n",
       "      <td>25</td>\n",
       "      <td>Frankfurter Allee (S-Bhf)</td>\n",
       "      <td>52.515</td>\n",
       "      <td>13.460</td>\n",
       "    </tr>\n",
       "    <tr>\n",
       "      <th>3</th>\n",
       "      <td>23</td>\n",
       "      <td>Oberbaumbrücke</td>\n",
       "      <td>52.502</td>\n",
       "      <td>13.446</td>\n",
       "    </tr>\n",
       "    <tr>\n",
       "      <th>4</th>\n",
       "      <td>19</td>\n",
       "      <td>Ostbahnhof</td>\n",
       "      <td>52.510</td>\n",
       "      <td>13.430</td>\n",
       "    </tr>\n",
       "  </tbody>\n",
       "</table>\n",
       "</div>"
      ],
      "text/plain": [
       "   Bicycle                   Location  Longitude  Latitude\n",
       "0       30                Moritzplatz     52.503    13.410\n",
       "1       27          Brandenburger Tor     52.516    13.380\n",
       "2       25  Frankfurter Allee (S-Bhf)     52.515    13.460\n",
       "3       23             Oberbaumbrücke     52.502    13.446\n",
       "4       19                 Ostbahnhof     52.510    13.430"
      ]
     },
     "execution_count": 93,
     "metadata": {},
     "output_type": "execute_result"
    }
   ],
   "source": [
    "bicycle_hotspots.reset_index(drop=True)"
   ]
  },
  {
   "cell_type": "code",
   "execution_count": null,
   "id": "4a8265f1",
   "metadata": {},
   "outputs": [],
   "source": [
    "bicycle_hotspots_all = lat_long_groups[[\"ist_rad\"]].sort_values(\"ist_rad\", ascending=False)"
   ]
  },
  {
   "cell_type": "code",
   "execution_count": 95,
   "id": "75d93a91",
   "metadata": {},
   "outputs": [],
   "source": [
    "# bicycle_hotspots.to_csv(\"./data/bicycle_hotspots.csv\", index=False)"
   ]
  },
  {
   "cell_type": "markdown",
   "id": "25907323",
   "metadata": {},
   "source": [
    "### Creating bicycle hotspots stat's per year"
   ]
  },
  {
   "cell_type": "code",
   "execution_count": 127,
   "id": "8e50b4e0",
   "metadata": {},
   "outputs": [
    {
     "name": "stdout",
     "output_type": "stream",
     "text": [
      "5009 4993 4857 14293\n"
     ]
    }
   ],
   "source": [
    "lat_long_gr_2018 = lat_long_groups[lat_long_groups.y2018 == 1]\n",
    "lat_long_gr_2019 = lat_long_groups[lat_long_groups.y2019 == 1]\n",
    "lat_long_gr_2020 = lat_long_groups[lat_long_groups.y2020 == 1]\n",
    "print(len(lat_long_gr_2018), len(lat_long_gr_2019), len(lat_long_gr_2020), len(lat_long_groups))"
   ]
  },
  {
   "cell_type": "code",
   "execution_count": 139,
   "id": "0a90f5ec",
   "metadata": {},
   "outputs": [
    {
     "data": {
      "text/plain": [
       "0.8917026971381511"
      ]
     },
     "execution_count": 139,
     "metadata": {},
     "output_type": "execute_result"
    }
   ],
   "source": [
    "bi_hotsp_2018 = lat_long_gr_2018[[\"ist_rad\"]].sort_values(\"ist_rad\", ascending=False)\n",
    "bi_hotsp_2019 = lat_long_gr_2019[[\"ist_rad\"]].sort_values(\"ist_rad\", ascending=False)\n",
    "bi_hotsp_2020 = lat_long_gr_2020[[\"ist_rad\"]].sort_values(\"ist_rad\", ascending=False)\n",
    "\n",
    "bi_hotsp_2020.head(15)\n",
    "\n",
    "np.mean(bi_hotsp_2020.ist_rad)"
   ]
  },
  {
   "cell_type": "code",
   "execution_count": 121,
   "id": "0e0a5293",
   "metadata": {},
   "outputs": [
    {
     "data": {
      "text/plain": [
       "Index(['ist_rad', 'ist_pkw', 'ist_fuss', 'ist_krad', 'ist_gkfz',\n",
       "       'ist_sonstige', 'ukategorie', 'daylight', 'dusk', 'dark', 'dry', 'wet',\n",
       "       'ice', 'y2018', 'y2019', 'y2020', 'jan', 'feb', 'mar', 'apr', 'may',\n",
       "       'jun', 'jul', 'aug', 'sep', 'oct', 'nov', 'dec', 'sun', 'mon', 'tue',\n",
       "       'wed', 'thu', 'fri', 'sat', 'morning', 'afternoon', 'evening', 'night',\n",
       "       '0hr', '1hr', '2hr', '3hr', '4hr', '5hr', '6hr', '7hr', '8hr', '9hr',\n",
       "       '10hr', '11hr', '12hr', '13hr', '14hr', '15hr', '16hr', '17hr', '18hr',\n",
       "       '19hr', '20hr', '21hr', '22hr', '23hr', 'driving', 'turning', 'turn_in',\n",
       "       'crossing', 'standing_traffic', 'longitudinal_traffic', 'other'],\n",
       "      dtype='object')"
      ]
     },
     "execution_count": 121,
     "metadata": {},
     "output_type": "execute_result"
    }
   ],
   "source": [
    "lat_long_groups"
   ]
  },
  {
   "cell_type": "code",
   "execution_count": null,
   "id": "e1e078cc",
   "metadata": {},
   "outputs": [],
   "source": []
  },
  {
   "cell_type": "code",
   "execution_count": null,
   "id": "f0c6159c",
   "metadata": {},
   "outputs": [],
   "source": []
  },
  {
   "cell_type": "code",
   "execution_count": null,
   "id": "f5af9f4a",
   "metadata": {},
   "outputs": [],
   "source": []
  },
  {
   "cell_type": "code",
   "execution_count": null,
   "id": "6bfb224c",
   "metadata": {},
   "outputs": [],
   "source": []
  },
  {
   "cell_type": "code",
   "execution_count": null,
   "id": "78a18c95",
   "metadata": {},
   "outputs": [],
   "source": []
  },
  {
   "cell_type": "code",
   "execution_count": null,
   "id": "69a18081",
   "metadata": {},
   "outputs": [],
   "source": [
    "# df.to_csv(\"./data/cat_dummified.csv\", index=False)"
   ]
  }
 ],
 "metadata": {
  "kernelspec": {
   "display_name": "Python 3 (ipykernel)",
   "language": "python",
   "name": "python3"
  },
  "language_info": {
   "codemirror_mode": {
    "name": "ipython",
    "version": 3
   },
   "file_extension": ".py",
   "mimetype": "text/x-python",
   "name": "python",
   "nbconvert_exporter": "python",
   "pygments_lexer": "ipython3",
   "version": "3.9.7"
  },
  "toc": {
   "base_numbering": 1,
   "nav_menu": {},
   "number_sections": false,
   "sideBar": true,
   "skip_h1_title": false,
   "title_cell": "Table of Contents",
   "title_sidebar": "Contents",
   "toc_cell": false,
   "toc_position": {},
   "toc_section_display": true,
   "toc_window_display": true
  },
  "varInspector": {
   "cols": {
    "lenName": 16,
    "lenType": 16,
    "lenVar": 40
   },
   "kernels_config": {
    "python": {
     "delete_cmd_postfix": "",
     "delete_cmd_prefix": "del ",
     "library": "var_list.py",
     "varRefreshCmd": "print(var_dic_list())"
    },
    "r": {
     "delete_cmd_postfix": ") ",
     "delete_cmd_prefix": "rm(",
     "library": "var_list.r",
     "varRefreshCmd": "cat(var_dic_list()) "
    }
   },
   "types_to_exclude": [
    "module",
    "function",
    "builtin_function_or_method",
    "instance",
    "_Feature"
   ],
   "window_display": false
  }
 },
 "nbformat": 4,
 "nbformat_minor": 5
}
