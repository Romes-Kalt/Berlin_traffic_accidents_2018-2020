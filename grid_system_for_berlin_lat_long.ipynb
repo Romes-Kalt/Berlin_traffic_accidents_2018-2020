{
 "cells": [
  {
   "cell_type": "code",
   "execution_count": 44,
   "id": "b8895a84",
   "metadata": {},
   "outputs": [],
   "source": [
    "import pandas as pd\n",
    "import numpy as np\n",
    "import matplotlib.pyplot as plt"
   ]
  },
  {
   "cell_type": "code",
   "execution_count": 3,
   "id": "4e623b0c",
   "metadata": {},
   "outputs": [],
   "source": [
    "df = pd.read_csv(\"data/cleaned_data.csv\")"
   ]
  },
  {
   "cell_type": "code",
   "execution_count": 39,
   "id": "7406c811",
   "metadata": {},
   "outputs": [],
   "source": [
    "bbox = ((df.long.min(), df.long.max(),      \n",
    "         df.lat.min(), df.lat.max()))"
   ]
  },
  {
   "cell_type": "markdown",
   "id": "a64e9d80",
   "metadata": {},
   "source": [
    "### Create extra columns for every weather and lighting situation"
   ]
  },
  {
   "cell_type": "code",
   "execution_count": 4,
   "id": "7fbcb422",
   "metadata": {},
   "outputs": [],
   "source": [
    "df[\"daylight\"] = list(map(lambda x: 1 if x == 0 else 0, df.ulichtverh))\n",
    "df[\"dusk\"] = list(map(lambda x: 1 if x == 1 else 0, df.ulichtverh))\n",
    "df[\"dark\"] = list(map(lambda x: 1 if x == 2 else 0, df.ulichtverh))\n",
    "df.drop(\"ulichtverh\", axis = 1, inplace = True)"
   ]
  },
  {
   "cell_type": "code",
   "execution_count": 5,
   "id": "89e3aeb1",
   "metadata": {},
   "outputs": [],
   "source": [
    "df[\"dry\"] = list(map(lambda x: 1 if x == 0 else 0, df.ustrzustand))\n",
    "df[\"wet\"] = list(map(lambda x: 1 if x == 1 else 0, df.ustrzustand))\n",
    "df[\"ice\"] = list(map(lambda x: 1 if x == 2 else 0, df.ustrzustand))\n",
    "df.drop(\"ustrzustand\", axis = 1, inplace = True)"
   ]
  },
  {
   "cell_type": "code",
   "execution_count": 6,
   "id": "730e1928",
   "metadata": {},
   "outputs": [],
   "source": [
    "df[\"y2018\"] = list(map(lambda x: 1 if x == 2018 else 0, df.ujahr))\n",
    "df[\"y2019\"] = list(map(lambda x: 1 if x == 2019 else 0, df.ujahr))\n",
    "df[\"y2020\"] = list(map(lambda x: 1 if x == 2020 else 0, df.ujahr))\n",
    "df.drop(\"ujahr\", axis = 1, inplace = True)"
   ]
  },
  {
   "cell_type": "code",
   "execution_count": 7,
   "id": "47564681",
   "metadata": {},
   "outputs": [],
   "source": [
    "df[\"jan\"] = list(map(lambda x: 1 if x == 1 else 0, df.umonat))\n",
    "df[\"feb\"] = list(map(lambda x: 1 if x == 2 else 0, df.umonat))\n",
    "df[\"mar\"] = list(map(lambda x: 1 if x == 3 else 0, df.umonat))\n",
    "df[\"apr\"] = list(map(lambda x: 1 if x == 4 else 0, df.umonat))\n",
    "df[\"may\"] = list(map(lambda x: 1 if x == 5 else 0, df.umonat))\n",
    "df[\"jun\"] = list(map(lambda x: 1 if x == 6 else 0, df.umonat))\n",
    "df[\"jul\"] = list(map(lambda x: 1 if x == 7 else 0, df.umonat))\n",
    "df[\"aug\"] = list(map(lambda x: 1 if x == 8 else 0, df.umonat))\n",
    "df[\"sep\"] = list(map(lambda x: 1 if x == 9 else 0, df.umonat))\n",
    "df[\"oct\"] = list(map(lambda x: 1 if x == 10 else 0, df.umonat))\n",
    "df[\"nov\"] = list(map(lambda x: 1 if x == 11 else 0, df.umonat))\n",
    "df[\"dec\"] = list(map(lambda x: 1 if x == 12 else 0, df.umonat))\n",
    "df.drop(\"umonat\", axis = 1, inplace = True)"
   ]
  },
  {
   "cell_type": "code",
   "execution_count": 8,
   "id": "ae23eccc",
   "metadata": {},
   "outputs": [],
   "source": [
    "df[\"sun\"] = list(map(lambda x: 1 if x == 1 else 0, df.uwochentag))\n",
    "df[\"mon\"] = list(map(lambda x: 1 if x == 2 else 0, df.uwochentag))\n",
    "df[\"tue\"] = list(map(lambda x: 1 if x == 3 else 0, df.uwochentag))\n",
    "df[\"wed\"] = list(map(lambda x: 1 if x == 4 else 0, df.uwochentag))\n",
    "df[\"thu\"] = list(map(lambda x: 1 if x == 5 else 0, df.uwochentag))\n",
    "df[\"fri\"] = list(map(lambda x: 1 if x == 6 else 0, df.uwochentag))\n",
    "df[\"sat\"] = list(map(lambda x: 1 if x == 7 else 0, df.uwochentag))\n",
    "df.drop(\"uwochentag\", axis = 1, inplace = True)"
   ]
  },
  {
   "cell_type": "code",
   "execution_count": 9,
   "id": "e827d9cd",
   "metadata": {},
   "outputs": [],
   "source": [
    "df[\"morning\"] = list(map(lambda x: 1 if x == \"morning\" else 0, df.time_of_day))\n",
    "df[\"afternoon\"] = list(map(lambda x: 1 if x == \"afternoon\" else 0, df.time_of_day))\n",
    "df[\"evening\"] = list(map(lambda x: 1 if x == \"evening\" else 0, df.time_of_day))\n",
    "df[\"night\"] = list(map(lambda x: 1 if x == \"night\" else 0, df.time_of_day))\n",
    "df.drop(\"time_of_day\", axis = 1, inplace = True)"
   ]
  },
  {
   "cell_type": "code",
   "execution_count": 10,
   "id": "f055cde8",
   "metadata": {},
   "outputs": [],
   "source": [
    "for _ in range(0,24):\n",
    "    df[f\"{_}hr\"] = list(map(lambda x: 1 if x == _ else 0, df.ustunde))\n",
    "df.drop(\"ustunde\", axis = 1, inplace = True)"
   ]
  },
  {
   "cell_type": "code",
   "execution_count": 11,
   "id": "0c2da5c4",
   "metadata": {},
   "outputs": [],
   "source": [
    "df[\"driving\"] = list(map(lambda x: 1 if x == 1 else 0, df.utyp1))\n",
    "df[\"turning\"] = list(map(lambda x: 1 if x == 2 else 0, df.utyp1))\n",
    "df[\"turn_in\"] = list(map(lambda x: 1 if x == 3 else 0, df.utyp1))\n",
    "df[\"crossing\"] = list(map(lambda x: 1 if x == 4 else 0, df.utyp1))\n",
    "df[\"standing_traffic\"] = list(map(lambda x: 1 if x == 5 else 0, df.utyp1))\n",
    "df[\"longitudinal_traffic\"] = list(map(lambda x: 1 if x == 6 else 0, df.utyp1))\n",
    "df[\"other\"] = list(map(lambda x: 1 if x == 7 else 0, df.utyp1))\n",
    "df.drop(\"utyp1\", axis = 1, inplace = True)"
   ]
  },
  {
   "cell_type": "code",
   "execution_count": 12,
   "id": "b47e5ad6",
   "metadata": {},
   "outputs": [],
   "source": [
    "df.drop([\"weekday\", \"light_condition\", \"street_condition\", \"uart\"], axis = 1, inplace = True)"
   ]
  },
  {
   "cell_type": "code",
   "execution_count": null,
   "id": "62dff845",
   "metadata": {},
   "outputs": [],
   "source": []
  },
  {
   "cell_type": "code",
   "execution_count": null,
   "id": "1cb66e27",
   "metadata": {},
   "outputs": [],
   "source": []
  },
  {
   "cell_type": "code",
   "execution_count": 15,
   "id": "4c9f31d8",
   "metadata": {},
   "outputs": [
    {
     "name": "stdout",
     "output_type": "stream",
     "text": [
      "Longitude: 52.34653157 52.66015  - Delta: 0.31362\n",
      "Latitude : 13.09467645 13.74096  - Delta: 0.64628\n"
     ]
    }
   ],
   "source": [
    "print(\"Longitude:\", min(df.long), max(df.long), \" - Delta:\", round(max(df.long)-min(df.long),5))\n",
    "print(\"Latitude :\", min(df.lat), max(df.lat), \" - Delta:\", round(max(df.lat)-min(df.lat),5))"
   ]
  },
  {
   "cell_type": "markdown",
   "id": "b7418c3a",
   "metadata": {},
   "source": [
    "### Coordinate range\n",
    "\n",
    "Using [calculator.net](https://www.calculator.net/distance-calculator.html) the range between the minimum and maximum longitude is **34.01 km** and between the minimum and maximum latitude is **71.50 km**.\n"
   ]
  },
  {
   "cell_type": "code",
   "execution_count": 16,
   "id": "c37dac4f",
   "metadata": {},
   "outputs": [],
   "source": [
    "step = 0.001 # equals around 111 m\n",
    "to_bin = lambda x: np.floor(x / step) * step\n",
    "df[\"lat_bin\"] = to_bin(df.lat)\n",
    "df[\"lon_bin\"] = to_bin(df.long)\n",
    "lat_long_groups = df.groupby([\"lon_bin\", \"lat_bin\"]).sum()"
   ]
  },
  {
   "cell_type": "code",
   "execution_count": 17,
   "id": "0baf88c6",
   "metadata": {},
   "outputs": [],
   "source": [
    "lat_long_groups.drop([\"long\", \"lat\"], axis = 1, inplace = True)"
   ]
  },
  {
   "cell_type": "code",
   "execution_count": null,
   "id": "525ec682",
   "metadata": {},
   "outputs": [],
   "source": []
  },
  {
   "cell_type": "code",
   "execution_count": 18,
   "id": "96a49745",
   "metadata": {},
   "outputs": [
    {
     "data": {
      "text/html": [
       "<div>\n",
       "<style scoped>\n",
       "    .dataframe tbody tr th:only-of-type {\n",
       "        vertical-align: middle;\n",
       "    }\n",
       "\n",
       "    .dataframe tbody tr th {\n",
       "        vertical-align: top;\n",
       "    }\n",
       "\n",
       "    .dataframe thead th {\n",
       "        text-align: right;\n",
       "    }\n",
       "</style>\n",
       "<table border=\"1\" class=\"dataframe\">\n",
       "  <thead>\n",
       "    <tr style=\"text-align: right;\">\n",
       "      <th></th>\n",
       "      <th></th>\n",
       "      <th>ist_rad</th>\n",
       "      <th>ist_pkw</th>\n",
       "      <th>ist_fuss</th>\n",
       "      <th>ist_krad</th>\n",
       "      <th>ist_gkfz</th>\n",
       "      <th>ist_sonstige</th>\n",
       "      <th>ukategorie</th>\n",
       "      <th>daylight</th>\n",
       "      <th>dusk</th>\n",
       "      <th>dark</th>\n",
       "      <th>...</th>\n",
       "      <th>21hr</th>\n",
       "      <th>22hr</th>\n",
       "      <th>23hr</th>\n",
       "      <th>driving</th>\n",
       "      <th>turning</th>\n",
       "      <th>turn_in</th>\n",
       "      <th>crossing</th>\n",
       "      <th>standing_traffic</th>\n",
       "      <th>longitudinal_traffic</th>\n",
       "      <th>other</th>\n",
       "    </tr>\n",
       "    <tr>\n",
       "      <th>lon_bin</th>\n",
       "      <th>lat_bin</th>\n",
       "      <th></th>\n",
       "      <th></th>\n",
       "      <th></th>\n",
       "      <th></th>\n",
       "      <th></th>\n",
       "      <th></th>\n",
       "      <th></th>\n",
       "      <th></th>\n",
       "      <th></th>\n",
       "      <th></th>\n",
       "      <th></th>\n",
       "      <th></th>\n",
       "      <th></th>\n",
       "      <th></th>\n",
       "      <th></th>\n",
       "      <th></th>\n",
       "      <th></th>\n",
       "      <th></th>\n",
       "      <th></th>\n",
       "      <th></th>\n",
       "      <th></th>\n",
       "    </tr>\n",
       "  </thead>\n",
       "  <tbody>\n",
       "    <tr>\n",
       "      <th>52.503</th>\n",
       "      <th>13.41</th>\n",
       "      <td>30</td>\n",
       "      <td>27</td>\n",
       "      <td>1</td>\n",
       "      <td>1</td>\n",
       "      <td>0</td>\n",
       "      <td>6</td>\n",
       "      <td>101</td>\n",
       "      <td>23</td>\n",
       "      <td>1</td>\n",
       "      <td>11</td>\n",
       "      <td>...</td>\n",
       "      <td>1</td>\n",
       "      <td>1</td>\n",
       "      <td>1</td>\n",
       "      <td>3</td>\n",
       "      <td>12</td>\n",
       "      <td>19</td>\n",
       "      <td>0</td>\n",
       "      <td>0</td>\n",
       "      <td>0</td>\n",
       "      <td>1</td>\n",
       "    </tr>\n",
       "  </tbody>\n",
       "</table>\n",
       "<p>1 rows × 70 columns</p>\n",
       "</div>"
      ],
      "text/plain": [
       "                 ist_rad  ist_pkw  ist_fuss  ist_krad  ist_gkfz  ist_sonstige  \\\n",
       "lon_bin lat_bin                                                                 \n",
       "52.503  13.41         30       27         1         1         0             6   \n",
       "\n",
       "                 ukategorie  daylight  dusk  dark  ...  21hr  22hr  23hr  \\\n",
       "lon_bin lat_bin                                    ...                     \n",
       "52.503  13.41           101        23     1    11  ...     1     1     1   \n",
       "\n",
       "                 driving  turning  turn_in  crossing  standing_traffic  \\\n",
       "lon_bin lat_bin                                                          \n",
       "52.503  13.41          3       12       19         0                 0   \n",
       "\n",
       "                 longitudinal_traffic  other  \n",
       "lon_bin lat_bin                               \n",
       "52.503  13.41                       0      1  \n",
       "\n",
       "[1 rows x 70 columns]"
      ]
     },
     "execution_count": 18,
     "metadata": {},
     "output_type": "execute_result"
    }
   ],
   "source": [
    "lat_long_groups[lat_long_groups.ist_rad == max(lat_long_groups.ist_rad)]"
   ]
  },
  {
   "cell_type": "code",
   "execution_count": 41,
   "id": "d2ca414a",
   "metadata": {},
   "outputs": [],
   "source": [
    "most_acc_dict = {}\n",
    "for col in lat_long_groups:\n",
    "    most_acc_dict[col] = {\"long\": round(lat_long_groups[lat_long_groups[col] == max(lat_long_groups[col])].index[0][0], 7),\n",
    "                         \"lat\": round(lat_long_groups[lat_long_groups[col] == max(lat_long_groups[col])].index[0][1], 7),}\n",
    "    # print(col, lat_long_groups[lat_long_groups[col] == max(lat_long_groups[col])].index[0][0])\n",
    "# pd.DataFrame.from_dict(most_acc_dict, orient='index').to_csv(\"./data/most_acc_latlong_by_category.csv\", index = True)\n",
    "df_ = pd.DataFrame.from_dict(most_acc_dict, orient='index')"
   ]
  },
  {
   "cell_type": "code",
   "execution_count": 52,
   "id": "ed25b0fc",
   "metadata": {},
   "outputs": [
    {
     "data": {
      "text/html": [
       "<div>\n",
       "<style scoped>\n",
       "    .dataframe tbody tr th:only-of-type {\n",
       "        vertical-align: middle;\n",
       "    }\n",
       "\n",
       "    .dataframe tbody tr th {\n",
       "        vertical-align: top;\n",
       "    }\n",
       "\n",
       "    .dataframe thead th {\n",
       "        text-align: right;\n",
       "    }\n",
       "</style>\n",
       "<table border=\"1\" class=\"dataframe\">\n",
       "  <thead>\n",
       "    <tr style=\"text-align: right;\">\n",
       "      <th></th>\n",
       "      <th>long</th>\n",
       "      <th>lat</th>\n",
       "    </tr>\n",
       "  </thead>\n",
       "  <tbody>\n",
       "    <tr>\n",
       "      <th>ist_rad</th>\n",
       "      <td>52.503</td>\n",
       "      <td>13.410</td>\n",
       "    </tr>\n",
       "    <tr>\n",
       "      <th>ist_pkw</th>\n",
       "      <td>52.538</td>\n",
       "      <td>13.326</td>\n",
       "    </tr>\n",
       "    <tr>\n",
       "      <th>ist_fuss</th>\n",
       "      <td>52.534</td>\n",
       "      <td>13.199</td>\n",
       "    </tr>\n",
       "    <tr>\n",
       "      <th>ist_krad</th>\n",
       "      <td>52.517</td>\n",
       "      <td>13.440</td>\n",
       "    </tr>\n",
       "    <tr>\n",
       "      <th>ist_gkfz</th>\n",
       "      <td>52.528</td>\n",
       "      <td>13.282</td>\n",
       "    </tr>\n",
       "    <tr>\n",
       "      <th>...</th>\n",
       "      <td>...</td>\n",
       "      <td>...</td>\n",
       "    </tr>\n",
       "    <tr>\n",
       "      <th>turn_in</th>\n",
       "      <td>52.552</td>\n",
       "      <td>13.427</td>\n",
       "    </tr>\n",
       "    <tr>\n",
       "      <th>crossing</th>\n",
       "      <td>52.457</td>\n",
       "      <td>13.578</td>\n",
       "    </tr>\n",
       "    <tr>\n",
       "      <th>standing_traffic</th>\n",
       "      <td>52.501</td>\n",
       "      <td>13.337</td>\n",
       "    </tr>\n",
       "    <tr>\n",
       "      <th>longitudinal_traffic</th>\n",
       "      <td>52.528</td>\n",
       "      <td>13.282</td>\n",
       "    </tr>\n",
       "    <tr>\n",
       "      <th>other</th>\n",
       "      <td>52.503</td>\n",
       "      <td>13.447</td>\n",
       "    </tr>\n",
       "  </tbody>\n",
       "</table>\n",
       "<p>70 rows × 2 columns</p>\n",
       "</div>"
      ],
      "text/plain": [
       "                        long     lat\n",
       "ist_rad               52.503  13.410\n",
       "ist_pkw               52.538  13.326\n",
       "ist_fuss              52.534  13.199\n",
       "ist_krad              52.517  13.440\n",
       "ist_gkfz              52.528  13.282\n",
       "...                      ...     ...\n",
       "turn_in               52.552  13.427\n",
       "crossing              52.457  13.578\n",
       "standing_traffic      52.501  13.337\n",
       "longitudinal_traffic  52.528  13.282\n",
       "other                 52.503  13.447\n",
       "\n",
       "[70 rows x 2 columns]"
      ]
     },
     "execution_count": 52,
     "metadata": {},
     "output_type": "execute_result"
    }
   ],
   "source": [
    "df_"
   ]
  },
  {
   "cell_type": "code",
   "execution_count": 45,
   "id": "6425aaf4",
   "metadata": {},
   "outputs": [
    {
     "data": {
      "text/plain": [
       "(13.09467645, 13.74096)"
      ]
     },
     "execution_count": 45,
     "metadata": {},
     "output_type": "execute_result"
    },
    {
     "data": {
      "image/png": "[encoded data removed]",
      "text/plain": [
       "<Figure size 576x504 with 1 Axes>"
      ]
     },
     "metadata": {
      "needs_background": "light"
     },
     "output_type": "display_data"
    }
   ],
   "source": [
    "fig, ax = plt.subplots(figsize = (8,7))\n",
    "ax.scatter(df_.long, df_.lat, zorder=1, alpha= 0.2, c='b', s=10)\n",
    "ax.set_title('POI')\n",
    "ax.set_xlim(bbox[0],bbox[1])\n",
    "ax.set_ylim(bbox[2],bbox[3])\n"
   ]
  },
  {
   "cell_type": "code",
   "execution_count": null,
   "id": "2104d709",
   "metadata": {},
   "outputs": [],
   "source": []
  },
  {
   "cell_type": "code",
   "execution_count": 48,
   "id": "1898ae82",
   "metadata": {},
   "outputs": [],
   "source": [
    "def return_most_acc_df(this_df):\n",
    "    step = 0.001 # equals around 111 m\n",
    "    to_bin = lambda x: np.floor(x / step) * step\n",
    "    this_df[\"lat_bin\"] = to_bin(this_df.lat)\n",
    "    this_df[\"lon_bin\"] = to_bin(this_df.long)\n",
    "    lat_long_groups = df.groupby([\"lon_bin\", \"lat_bin\"]).sum()\n",
    "    most_acc_dict = {}\n",
    "    for col in lat_long_groups:\n",
    "        most_acc_dict[col] = {\"long\": round(lat_long_groups[lat_long_groups[col] == max(lat_long_groups[col])].index[0][0], 7),\n",
    "                             \"lat\": round(lat_long_groups[lat_long_groups[col] == max(lat_long_groups[col])].index[0][1], 7),}\n",
    "        # print(col, lat_long_groups[lat_long_groups[col] == max(lat_long_groups[col])].index[0][0])\n",
    "    # pd.DataFrame.from_dict(most_acc_dict, orient='index').to_csv(\"./data/most_acc_latlong_by_category.csv\", index = True)\n",
    "    return pd.DataFrame.from_dict(most_acc_dict, orient='index')\n",
    "    "
   ]
  },
  {
   "cell_type": "code",
   "execution_count": null,
   "id": "a874726f",
   "metadata": {},
   "outputs": [],
   "source": []
  },
  {
   "cell_type": "code",
   "execution_count": 49,
   "id": "e6df9037",
   "metadata": {},
   "outputs": [
    {
     "data": {
      "text/html": [
       "<div>\n",
       "<style scoped>\n",
       "    .dataframe tbody tr th:only-of-type {\n",
       "        vertical-align: middle;\n",
       "    }\n",
       "\n",
       "    .dataframe tbody tr th {\n",
       "        vertical-align: top;\n",
       "    }\n",
       "\n",
       "    .dataframe thead th {\n",
       "        text-align: right;\n",
       "    }\n",
       "</style>\n",
       "<table border=\"1\" class=\"dataframe\">\n",
       "  <thead>\n",
       "    <tr style=\"text-align: right;\">\n",
       "      <th></th>\n",
       "      <th>long</th>\n",
       "      <th>lat</th>\n",
       "    </tr>\n",
       "  </thead>\n",
       "  <tbody>\n",
       "    <tr>\n",
       "      <th>long</th>\n",
       "      <td>52.538</td>\n",
       "      <td>13.326</td>\n",
       "    </tr>\n",
       "    <tr>\n",
       "      <th>lat</th>\n",
       "      <td>52.538</td>\n",
       "      <td>13.326</td>\n",
       "    </tr>\n",
       "    <tr>\n",
       "      <th>ist_rad</th>\n",
       "      <td>52.503</td>\n",
       "      <td>13.410</td>\n",
       "    </tr>\n",
       "    <tr>\n",
       "      <th>ist_pkw</th>\n",
       "      <td>52.538</td>\n",
       "      <td>13.326</td>\n",
       "    </tr>\n",
       "    <tr>\n",
       "      <th>ist_fuss</th>\n",
       "      <td>52.534</td>\n",
       "      <td>13.199</td>\n",
       "    </tr>\n",
       "    <tr>\n",
       "      <th>...</th>\n",
       "      <td>...</td>\n",
       "      <td>...</td>\n",
       "    </tr>\n",
       "    <tr>\n",
       "      <th>turn_in</th>\n",
       "      <td>52.552</td>\n",
       "      <td>13.427</td>\n",
       "    </tr>\n",
       "    <tr>\n",
       "      <th>crossing</th>\n",
       "      <td>52.457</td>\n",
       "      <td>13.578</td>\n",
       "    </tr>\n",
       "    <tr>\n",
       "      <th>standing_traffic</th>\n",
       "      <td>52.501</td>\n",
       "      <td>13.337</td>\n",
       "    </tr>\n",
       "    <tr>\n",
       "      <th>longitudinal_traffic</th>\n",
       "      <td>52.528</td>\n",
       "      <td>13.282</td>\n",
       "    </tr>\n",
       "    <tr>\n",
       "      <th>other</th>\n",
       "      <td>52.503</td>\n",
       "      <td>13.447</td>\n",
       "    </tr>\n",
       "  </tbody>\n",
       "</table>\n",
       "<p>72 rows × 2 columns</p>\n",
       "</div>"
      ],
      "text/plain": [
       "                        long     lat\n",
       "long                  52.538  13.326\n",
       "lat                   52.538  13.326\n",
       "ist_rad               52.503  13.410\n",
       "ist_pkw               52.538  13.326\n",
       "ist_fuss              52.534  13.199\n",
       "...                      ...     ...\n",
       "turn_in               52.552  13.427\n",
       "crossing              52.457  13.578\n",
       "standing_traffic      52.501  13.337\n",
       "longitudinal_traffic  52.528  13.282\n",
       "other                 52.503  13.447\n",
       "\n",
       "[72 rows x 2 columns]"
      ]
     },
     "execution_count": 49,
     "metadata": {},
     "output_type": "execute_result"
    }
   ],
   "source": [
    "tester = return_most_acc_df(df[df.])\n",
    "tester"
   ]
  },
  {
   "cell_type": "code",
   "execution_count": null,
   "id": "4eb25877",
   "metadata": {},
   "outputs": [],
   "source": []
  },
  {
   "cell_type": "code",
   "execution_count": null,
   "id": "dee63d4d",
   "metadata": {},
   "outputs": [],
   "source": []
  },
  {
   "cell_type": "code",
   "execution_count": null,
   "id": "9a7aa4a6",
   "metadata": {},
   "outputs": [],
   "source": []
  },
  {
   "cell_type": "code",
   "execution_count": null,
   "id": "354db9c1",
   "metadata": {},
   "outputs": [],
   "source": []
  },
  {
   "cell_type": "code",
   "execution_count": null,
   "id": "2d1feeba",
   "metadata": {},
   "outputs": [],
   "source": []
  }
 ],
 "metadata": {
  "kernelspec": {
   "display_name": "Python 3 (ipykernel)",
   "language": "python",
   "name": "python3"
  },
  "language_info": {
   "codemirror_mode": {
    "name": "ipython",
    "version": 3
   },
   "file_extension": ".py",
   "mimetype": "text/x-python",
   "name": "python",
   "nbconvert_exporter": "python",
   "pygments_lexer": "ipython3",
   "version": "3.9.7"
  },
  "toc": {
   "base_numbering": 1,
   "nav_menu": {},
   "number_sections": false,
   "sideBar": true,
   "skip_h1_title": false,
   "title_cell": "Table of Contents",
   "title_sidebar": "Contents",
   "toc_cell": false,
   "toc_position": {},
   "toc_section_display": true,
   "toc_window_display": true
  },
  "varInspector": {
   "cols": {
    "lenName": 16,
    "lenType": 16,
    "lenVar": 40
   },
   "kernels_config": {
    "python": {
     "delete_cmd_postfix": "",
     "delete_cmd_prefix": "del ",
     "library": "var_list.py",
     "varRefreshCmd": "print(var_dic_list())"
    },
    "r": {
     "delete_cmd_postfix": ") ",
     "delete_cmd_prefix": "rm(",
     "library": "var_list.r",
     "varRefreshCmd": "cat(var_dic_list()) "
    }
   },
   "types_to_exclude": [
    "module",
    "function",
    "builtin_function_or_method",
    "instance",
    "_Feature"
   ],
   "window_display": false
  }
 },
 "nbformat": 4,
 "nbformat_minor": 5
}
