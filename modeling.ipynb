{
 "cells": [
  {
   "cell_type": "code",
   "execution_count": 65,
   "id": "03a28aa3",
   "metadata": {},
   "outputs": [],
   "source": [
    "import pandas as pd\n",
    "import numpy as np\n",
    "import matplotlib.pyplot as plt\n",
    "from sklearn.metrics import plot_confusion_matrix\n",
    "\n",
    "import seaborn as sns\n",
    "from sklearn.model_selection import train_test_split\n",
    "from sklearn.tree import DecisionTreeClassifier\n",
    "from sklearn.metrics import accuracy_score, precision_score, recall_score, confusion_matrix\n",
    "\n",
    "from imblearn.over_sampling import SMOTE\n",
    "from sklearn.preprocessing import PowerTransformer, StandardScaler\n",
    "from sklearn.linear_model import LogisticRegression\n",
    "from sklearn.neighbors import KNeighborsClassifier\n",
    "from sklearn.tree import plot_tree\n",
    "from sklearn.model_selection import cross_val_score\n",
    "from sklearn.model_selection import cross_val_predict\n",
    "from sklearn.ensemble import RandomForestClassifier\n",
    "from sklearn.linear_model import LinearRegression\n",
    "import statsmodels.api as sm\n",
    "\n",
    "# from sklearn.datasets import load_boston\n",
    "# from sklearn.datasets import load_iris, load_breast_cancer\n",
    "# from sklearn.tree import DecisionTreeRegressor\n",
    "# from sklearn.tree import DecisionTreeClassifier\n",
    "# from sklearn.linear_model import LogisticRegression, LinearRegression\n",
    "# from sklearn.neighbors import KNeighborsRegressor, KNeighborsClassifier\n",
    "# \n",
    "\n",
    "# from sklearn.ensemble import RandomForestClassifier\n",
    "\n",
    "\n",
    "# import warnings\n",
    "# warnings.filterwarnings('ignore')\n",
    "# from sklearn.metrics import mean_absolute_error, mean_squared_error, r2_score\n",
    "# from sklearn.model_selection import GridSearchCV\n",
    "\n"
   ]
  },
  {
   "cell_type": "code",
   "execution_count": 26,
   "id": "571fb95e",
   "metadata": {},
   "outputs": [],
   "source": [
    "def heat_map(num_df):\n",
    "    corr = num_df.corr()\n",
    "    mask = np.zeros_like(corr)\n",
    "    mask[np.triu_indices_from(mask)] = True\n",
    "    with sns.axes_style(\"white\"):\n",
    "        f, ax = plt.subplots(figsize=(18, 12))\n",
    "        ax = sns.heatmap(corr, mask=mask,cmap='coolwarm', vmin=-1,vmax=1,annot=True, square=True)"
   ]
  },
  {
   "cell_type": "code",
   "execution_count": 3,
   "id": "78fa17a6",
   "metadata": {},
   "outputs": [],
   "source": [
    "def random_forest_classifier_df(this_X_train, this_y_train, this_min_dpth:[int]=2, this_max_dpth:[int]=5, \n",
    "                                this_min_cv:[int]=5, this_max_cv:[int]=25, this_random_state=42):\n",
    "    result_df = pd.DataFrame()\n",
    "    for md in range(this_min_dpth, this_max_dpth+1):\n",
    "        print(f\"Depth: {md} -> \", end=\"\")\n",
    "        for cv_s in range(this_min_cv,this_max_cv+1,5):\n",
    "            print(f\"{cv_s}, \", end=\"\")\n",
    "            clf = RandomForestClassifier(max_depth=md, random_state=this_random_state)\n",
    "            cross_val_scores = cross_val_score(clf, X_train, y_train, cv=cv_s)\n",
    "            result_df = pd.concat([pd.DataFrame([[md, cv_s, np.mean(cross_val_scores)]]), result_df], axis=0)\n",
    "        print(\" ... done.\")\n",
    "    result_df.rename(columns={0: 'max_depth', 1: 'cv', 2:\"mean_score\"}, inplace=True)\n",
    "    return result_df"
   ]
  },
  {
   "cell_type": "code",
   "execution_count": 30,
   "id": "e13869f2",
   "metadata": {},
   "outputs": [],
   "source": [
    "data_ = pd.read_csv(\"./data/combined_numbers_weather_days_2018-2020.csv\")"
   ]
  },
  {
   "cell_type": "code",
   "execution_count": 31,
   "id": "e6cc739f",
   "metadata": {
    "scrolled": true
   },
   "outputs": [
    {
     "data": {
      "text/plain": [
       "Index(['month', 'bicycle', 'car', 'pedestrian', 'motorbike', 'truck', 'other',\n",
       "       'slightly_injured', 'seriously_injured', 'fatal', 'total_acc_w_injury',\n",
       "       'alcohol_related', 'daylight', 'dark', 'dusk', 'dry', 'wet', 'icy',\n",
       "       'YYYYMM', 'bank_holiday', 'school_vacation', 'lockdown',\n",
       "       'percipation_mm', 'sunshine_hours', 'snow_height_mm', 'aver_temp'],\n",
       "      dtype='object')"
      ]
     },
     "execution_count": 31,
     "metadata": {},
     "output_type": "execute_result"
    }
   ],
   "source": [
    "data_.columns\n",
    "# data_.head()\n"
   ]
  },
  {
   "cell_type": "code",
   "execution_count": 32,
   "id": "88b50780",
   "metadata": {
    "scrolled": true
   },
   "outputs": [
    {
     "data": {
      "text/html": [
       "<div>\n",
       "<style scoped>\n",
       "    .dataframe tbody tr th:only-of-type {\n",
       "        vertical-align: middle;\n",
       "    }\n",
       "\n",
       "    .dataframe tbody tr th {\n",
       "        vertical-align: top;\n",
       "    }\n",
       "\n",
       "    .dataframe thead th {\n",
       "        text-align: right;\n",
       "    }\n",
       "</style>\n",
       "<table border=\"1\" class=\"dataframe\">\n",
       "  <thead>\n",
       "    <tr style=\"text-align: right;\">\n",
       "      <th></th>\n",
       "      <th>month</th>\n",
       "      <th>bicycle</th>\n",
       "      <th>car</th>\n",
       "      <th>pedestrian</th>\n",
       "      <th>motorbike</th>\n",
       "      <th>truck</th>\n",
       "      <th>other</th>\n",
       "      <th>slightly_injured</th>\n",
       "      <th>seriously_injured</th>\n",
       "      <th>fatal</th>\n",
       "      <th>...</th>\n",
       "      <th>wet</th>\n",
       "      <th>icy</th>\n",
       "      <th>YYYYMM</th>\n",
       "      <th>bank_holiday</th>\n",
       "      <th>school_vacation</th>\n",
       "      <th>lockdown</th>\n",
       "      <th>percipation_mm</th>\n",
       "      <th>sunshine_hours</th>\n",
       "      <th>snow_height_mm</th>\n",
       "      <th>aver_temp</th>\n",
       "    </tr>\n",
       "  </thead>\n",
       "  <tbody>\n",
       "    <tr>\n",
       "      <th>0</th>\n",
       "      <td>2018_01</td>\n",
       "      <td>245</td>\n",
       "      <td>758</td>\n",
       "      <td>247</td>\n",
       "      <td>50</td>\n",
       "      <td>28</td>\n",
       "      <td>129</td>\n",
       "      <td>720</td>\n",
       "      <td>161</td>\n",
       "      <td>3</td>\n",
       "      <td>...</td>\n",
       "      <td>509</td>\n",
       "      <td>17</td>\n",
       "      <td>201801</td>\n",
       "      <td>1</td>\n",
       "      <td>0</td>\n",
       "      <td>0</td>\n",
       "      <td>67.2</td>\n",
       "      <td>19.5</td>\n",
       "      <td>3.0</td>\n",
       "      <td>3.6</td>\n",
       "    </tr>\n",
       "    <tr>\n",
       "      <th>1</th>\n",
       "      <td>2018_02</td>\n",
       "      <td>201</td>\n",
       "      <td>640</td>\n",
       "      <td>153</td>\n",
       "      <td>39</td>\n",
       "      <td>30</td>\n",
       "      <td>101</td>\n",
       "      <td>608</td>\n",
       "      <td>119</td>\n",
       "      <td>3</td>\n",
       "      <td>...</td>\n",
       "      <td>107</td>\n",
       "      <td>21</td>\n",
       "      <td>201802</td>\n",
       "      <td>0</td>\n",
       "      <td>6</td>\n",
       "      <td>0</td>\n",
       "      <td>2.7</td>\n",
       "      <td>98.5</td>\n",
       "      <td>0.0</td>\n",
       "      <td>-0.9</td>\n",
       "    </tr>\n",
       "    <tr>\n",
       "      <th>2</th>\n",
       "      <td>2018_03</td>\n",
       "      <td>222</td>\n",
       "      <td>700</td>\n",
       "      <td>154</td>\n",
       "      <td>65</td>\n",
       "      <td>27</td>\n",
       "      <td>110</td>\n",
       "      <td>691</td>\n",
       "      <td>109</td>\n",
       "      <td>2</td>\n",
       "      <td>...</td>\n",
       "      <td>265</td>\n",
       "      <td>21</td>\n",
       "      <td>201803</td>\n",
       "      <td>1</td>\n",
       "      <td>6</td>\n",
       "      <td>0</td>\n",
       "      <td>44.1</td>\n",
       "      <td>84.4</td>\n",
       "      <td>1.5</td>\n",
       "      <td>1.8</td>\n",
       "    </tr>\n",
       "    <tr>\n",
       "      <th>3</th>\n",
       "      <td>2018_04</td>\n",
       "      <td>453</td>\n",
       "      <td>1008</td>\n",
       "      <td>148</td>\n",
       "      <td>214</td>\n",
       "      <td>38</td>\n",
       "      <td>168</td>\n",
       "      <td>1011</td>\n",
       "      <td>202</td>\n",
       "      <td>4</td>\n",
       "      <td>...</td>\n",
       "      <td>150</td>\n",
       "      <td>0</td>\n",
       "      <td>201804</td>\n",
       "      <td>1</td>\n",
       "      <td>7</td>\n",
       "      <td>0</td>\n",
       "      <td>38.0</td>\n",
       "      <td>170.9</td>\n",
       "      <td>0.0</td>\n",
       "      <td>13.7</td>\n",
       "    </tr>\n",
       "    <tr>\n",
       "      <th>4</th>\n",
       "      <td>2018_05</td>\n",
       "      <td>679</td>\n",
       "      <td>1174</td>\n",
       "      <td>190</td>\n",
       "      <td>257</td>\n",
       "      <td>62</td>\n",
       "      <td>184</td>\n",
       "      <td>1199</td>\n",
       "      <td>261</td>\n",
       "      <td>2</td>\n",
       "      <td>...</td>\n",
       "      <td>38</td>\n",
       "      <td>0</td>\n",
       "      <td>201805</td>\n",
       "      <td>3</td>\n",
       "      <td>2</td>\n",
       "      <td>0</td>\n",
       "      <td>15.2</td>\n",
       "      <td>232.2</td>\n",
       "      <td>0.0</td>\n",
       "      <td>17.9</td>\n",
       "    </tr>\n",
       "  </tbody>\n",
       "</table>\n",
       "<p>5 rows × 26 columns</p>\n",
       "</div>"
      ],
      "text/plain": [
       "     month  bicycle   car  pedestrian  motorbike  truck  other  \\\n",
       "0  2018_01      245   758         247         50     28    129   \n",
       "1  2018_02      201   640         153         39     30    101   \n",
       "2  2018_03      222   700         154         65     27    110   \n",
       "3  2018_04      453  1008         148        214     38    168   \n",
       "4  2018_05      679  1174         190        257     62    184   \n",
       "\n",
       "   slightly_injured  seriously_injured  fatal  ...  wet  icy  YYYYMM  \\\n",
       "0               720                161      3  ...  509   17  201801   \n",
       "1               608                119      3  ...  107   21  201802   \n",
       "2               691                109      2  ...  265   21  201803   \n",
       "3              1011                202      4  ...  150    0  201804   \n",
       "4              1199                261      2  ...   38    0  201805   \n",
       "\n",
       "   bank_holiday  school_vacation  lockdown  percipation_mm  sunshine_hours  \\\n",
       "0             1                0         0            67.2            19.5   \n",
       "1             0                6         0             2.7            98.5   \n",
       "2             1                6         0            44.1            84.4   \n",
       "3             1                7         0            38.0           170.9   \n",
       "4             3                2         0            15.2           232.2   \n",
       "\n",
       "   snow_height_mm  aver_temp  \n",
       "0             3.0        3.6  \n",
       "1             0.0       -0.9  \n",
       "2             1.5        1.8  \n",
       "3             0.0       13.7  \n",
       "4             0.0       17.9  \n",
       "\n",
       "[5 rows x 26 columns]"
      ]
     },
     "execution_count": 32,
     "metadata": {},
     "output_type": "execute_result"
    }
   ],
   "source": [
    "data_.head()\n"
   ]
  },
  {
   "cell_type": "code",
   "execution_count": 33,
   "id": "2433668d",
   "metadata": {},
   "outputs": [
    {
     "data": {
      "text/plain": [
       "Index(['month', 'bicycle', 'car', 'pedestrian', 'motorbike', 'truck', 'other',\n",
       "       'slightly_injured', 'seriously_injured', 'fatal', 'total_acc_w_injury',\n",
       "       'alcohol_related', 'daylight', 'dark', 'dusk', 'dry', 'wet', 'icy',\n",
       "       'YYYYMM', 'bank_holiday', 'school_vacation', 'lockdown',\n",
       "       'percipation_mm', 'sunshine_hours', 'snow_height_mm', 'aver_temp'],\n",
       "      dtype='object')"
      ]
     },
     "execution_count": 33,
     "metadata": {},
     "output_type": "execute_result"
    }
   ],
   "source": [
    "data_.columns"
   ]
  },
  {
   "cell_type": "code",
   "execution_count": 59,
   "id": "0539ea18",
   "metadata": {},
   "outputs": [],
   "source": [
    "# X = data_.drop(columns=['month', 'slightly_injured', 'seriously_injured', 'fatal', 'total_acc_w_injury', 'YYYYMM', \"aver_temp\"], axis = 1)\n",
    "X = data_.drop(columns=['month', 'slightly_injured', 'seriously_injured', 'fatal', 'total_acc_w_injury', 'YYYYMM', \"aver_temp\",\n",
    "                        \"car\", \"daylight\", \"bicycle\", \"motorbike\", \"pedestrian\", \"truck\", \"dry\", \"sunshine_hours\", \"dusk\", \"dark\"], axis = 1) \n",
    "\n",
    "\n",
    "y = data_['total_acc_w_injury']\n"
   ]
  },
  {
   "cell_type": "code",
   "execution_count": 60,
   "id": "f832eb88",
   "metadata": {},
   "outputs": [
    {
     "data": {
      "image/png": "[encoded data removed]",
      "text/plain": [
       "<Figure size 1296x864 with 2 Axes>"
      ]
     },
     "metadata": {},
     "output_type": "display_data"
    }
   ],
   "source": [
    "heat_map(X)"
   ]
  },
  {
   "cell_type": "code",
   "execution_count": 61,
   "id": "e7a0dc29",
   "metadata": {},
   "outputs": [],
   "source": [
    "X_train, X_test, y_train, y_test=train_test_split(X, y, test_size=0.2,random_state=42)"
   ]
  },
  {
   "cell_type": "code",
   "execution_count": 62,
   "id": "f716bfa3",
   "metadata": {},
   "outputs": [],
   "source": [
    "X_train_scaled=StandardScaler().fit(X_train).transform(X_train)\n",
    "X_test_scaled=StandardScaler().fit(X_train).transform(X_train)"
   ]
  },
  {
   "cell_type": "code",
   "execution_count": 63,
   "id": "965ddc26",
   "metadata": {},
   "outputs": [
    {
     "name": "stdout",
     "output_type": "stream",
     "text": [
      "                            OLS Regression Results                            \n",
      "==============================================================================\n",
      "Dep. Variable:     total_acc_w_injury   R-squared:                       0.889\n",
      "Model:                            OLS   Adj. R-squared:                  0.833\n",
      "Method:                 Least Squares   F-statistic:                     15.98\n",
      "Date:                Mon, 07 Mar 2022   Prob (F-statistic):           7.30e-07\n",
      "Time:                        13:01:35   Log-Likelihood:                -161.45\n",
      "No. Observations:                  28   AIC:                             342.9\n",
      "Df Residuals:                      18   BIC:                             356.2\n",
      "Df Model:                           9                                         \n",
      "Covariance Type:            nonrobust                                         \n",
      "==============================================================================\n",
      "                 coef    std err          t      P>|t|      [0.025      0.975]\n",
      "------------------------------------------------------------------------------\n",
      "const       1102.9643     18.207     60.579      0.000    1064.713    1141.216\n",
      "x1           239.4482     39.351      6.085      0.000     156.774     322.122\n",
      "x2            -1.9839     25.389     -0.078      0.939     -55.325      51.357\n",
      "x3             2.7876     22.019      0.127      0.901     -43.473      49.048\n",
      "x4             7.7025     39.164      0.197      0.846     -74.578      89.983\n",
      "x5            25.1723     21.375      1.178      0.254     -19.734      70.079\n",
      "x6           -19.7256     23.113     -0.853      0.405     -68.285      28.833\n",
      "x7            26.3215     28.910      0.910      0.375     -34.416      87.059\n",
      "x8            10.9923     26.296      0.418      0.681     -44.254      66.238\n",
      "x9           -27.8981     33.822     -0.825      0.420     -98.956      43.160\n",
      "==============================================================================\n",
      "Omnibus:                        5.525   Durbin-Watson:                   1.482\n",
      "Prob(Omnibus):                  0.063   Jarque-Bera (JB):                3.704\n",
      "Skew:                           0.776   Prob(JB):                        0.157\n",
      "Kurtosis:                       3.874   Cond. No.                         5.80\n",
      "==============================================================================\n",
      "\n",
      "Notes:\n",
      "[1] Standard Errors assume that the covariance matrix of the errors is correctly specified.\n"
     ]
    }
   ],
   "source": [
    "X_train_const_scaled = sm.add_constant(X_train_scaled) # adding a constant\n",
    "\n",
    "model = sm.OLS(y_train, X_train_const_scaled).fit()\n",
    "predictions_train = model.predict(X_train_const_scaled) \n",
    "\n",
    "X_test_const_scaled = sm.add_constant(X_test_scaled) # adding a constant\n",
    "predictions_test = model.predict(X_test_const_scaled) \n",
    "print_model = model.summary()\n",
    "\n",
    "print(print_model)"
   ]
  },
  {
   "cell_type": "code",
   "execution_count": 66,
   "id": "40c11d3c",
   "metadata": {},
   "outputs": [
    {
     "name": "stdout",
     "output_type": "stream",
     "text": [
      "[(239.44818993964228, 'other'), (-1.9839460383599798, 'alcohol_related'), (2.7875566038334787, 'wet'), (7.7025293238909205, 'icy'), (25.172277089956694, 'bank_holiday'), (-19.725620648995392, 'school_vacation'), (26.32146651502641, 'lockdown'), (10.992331493536689, 'percipation_mm'), (-27.898144549831365, 'snow_height_mm')]\n"
     ]
    }
   ],
   "source": [
    "model=LinearRegression()    # model\n",
    "model.fit(X_train_scaled, y_train)   # model train\n",
    "\n",
    "\n",
    "\n",
    "model.coef_\n",
    "\n",
    "print(list(zip(model.coef_, X_train.columns)))\n",
    "\n",
    "coef_dict = {}\n",
    "for coef, feat in list(zip(model.coef_, X.columns)):\n",
    "    coef_dict[feat] = abs(coef)"
   ]
  },
  {
   "cell_type": "code",
   "execution_count": 67,
   "id": "ee9af04d",
   "metadata": {},
   "outputs": [
    {
     "data": {
      "text/plain": [
       "{'other': 239.44818993964228,\n",
       " 'alcohol_related': 1.9839460383599798,\n",
       " 'wet': 2.7875566038334787,\n",
       " 'icy': 7.7025293238909205,\n",
       " 'bank_holiday': 25.172277089956694,\n",
       " 'school_vacation': 19.725620648995392,\n",
       " 'lockdown': 26.32146651502641,\n",
       " 'percipation_mm': 10.992331493536689,\n",
       " 'snow_height_mm': 27.898144549831365}"
      ]
     },
     "execution_count": 67,
     "metadata": {},
     "output_type": "execute_result"
    }
   ],
   "source": [
    "coef_dict"
   ]
  }
 ],
 "metadata": {
  "kernelspec": {
   "display_name": "Python 3 (ipykernel)",
   "language": "python",
   "name": "python3"
  },
  "language_info": {
   "codemirror_mode": {
    "name": "ipython",
    "version": 3
   },
   "file_extension": ".py",
   "mimetype": "text/x-python",
   "name": "python",
   "nbconvert_exporter": "python",
   "pygments_lexer": "ipython3",
   "version": "3.9.7"
  },
  "toc": {
   "base_numbering": 1,
   "nav_menu": {},
   "number_sections": true,
   "sideBar": true,
   "skip_h1_title": false,
   "title_cell": "Table of Contents",
   "title_sidebar": "Contents",
   "toc_cell": false,
   "toc_position": {},
   "toc_section_display": true,
   "toc_window_display": true
  },
  "varInspector": {
   "cols": {
    "lenName": 16,
    "lenType": 16,
    "lenVar": 40
   },
   "kernels_config": {
    "python": {
     "delete_cmd_postfix": "",
     "delete_cmd_prefix": "del ",
     "library": "var_list.py",
     "varRefreshCmd": "print(var_dic_list())"
    },
    "r": {
     "delete_cmd_postfix": ") ",
     "delete_cmd_prefix": "rm(",
     "library": "var_list.r",
     "varRefreshCmd": "cat(var_dic_list()) "
    }
   },
   "types_to_exclude": [
    "module",
    "function",
    "builtin_function_or_method",
    "instance",
    "_Feature"
   ],
   "window_display": false
  }
 },
 "nbformat": 4,
 "nbformat_minor": 5
}
